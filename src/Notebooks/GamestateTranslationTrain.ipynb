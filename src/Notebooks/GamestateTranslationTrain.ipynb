{
 "cells": [
  {
   "cell_type": "code",
   "execution_count": null,
   "id": "43a4f0eb-f778-4641-8cc2-5fef9903c840",
   "metadata": {},
   "outputs": [],
   "source": [
    "import torch\n",
    "import wandb\n",
    "import numpy as np\n",
    "import torch.nn as nn\n",
    "import torch.optim as optim\n",
    "from torch.utils.data import Dataset, DataLoader, TensorDataset\n",
    "import torch.nn.functional as F\n",
    "from torchvision import transforms\n",
    "from Utilities import Utilities as Util\n",
    "\n",
    "device = (\n",
    "    \"cuda\"\n",
    "    if torch.cuda.is_available()\n",
    "    else \"mps\"\n",
    "    if torch.backends.mps.is_available()\n",
    "    else \"cpu\"\n",
    ")\n",
    "print(f\"Using {device} device\")"
   ]
  },
  {
   "cell_type": "code",
   "execution_count": null,
   "id": "1b38eade-0b79-4802-b249-c08ea962fb9e",
   "metadata": {},
   "outputs": [],
   "source": [
    "# Basic Function definitions\n",
    "\n",
    "def train(dataloader, model, loss_fn, optimizer, epoch, logcount=5, wandb_log=False):\n",
    "    size = len(dataloader.dataset)\n",
    "    loginterval = len(dataloader) // logcount\n",
    "    average_loss = 0.0\n",
    "\n",
    "    model.train()\n",
    "    for batch, (X, y) in enumerate(dataloader):\n",
    "        X, y = X.to(device), y.to(device)\n",
    "\n",
    "        # Compute prediction error\n",
    "        pred = model(X)\n",
    "        loss = loss_fn(pred, y)\n",
    "        average_loss += loss.detach().item()\n",
    "        \n",
    "        # Backpropagation\n",
    "        loss.backward()\n",
    "        optimizer.step()\n",
    "        optimizer.zero_grad()\n",
    "\n",
    "        if (batch % loginterval == 0) and (batch > 0):\n",
    "            log_loss = average_loss / loginterval\n",
    "            average_loss = 0\n",
    "            current = batch * len(X)\n",
    "            print(f\"loss: {log_loss:>8f}  [{current:>5d}/{size:>5d}]\")\n",
    "            if wandb_log:\n",
    "                wandb.log({\"epoch\": epoch, \"train_loss\": log_loss})\n",
    "\n",
    "def test(dataloader, model, loss_fn, epoch, wandb_log=False):\n",
    "    size = len(dataloader.dataset)\n",
    "    num_batches = len(dataloader)\n",
    "    model.eval()\n",
    "    test_loss = 0\n",
    "    with torch.no_grad():\n",
    "        for X, y in dataloader:\n",
    "            X, y = X.to(device), y.to(device)\n",
    "            pred = model(X)\n",
    "            test_loss += loss_fn(pred, y).detach().item()\n",
    "    test_loss /= num_batches\n",
    "    if wandb_log:\n",
    "        wandb.log({\"epoch\" : epoch, \"test_loss\": test_loss})\n",
    "    print(f\"Test Error: \\n Avg loss: {test_loss:>8f} \\n\")\n",
    "\n",
    "def parameterCount(model):\n",
    "    pp=0\n",
    "    for p in list(model.parameters()):\n",
    "        nn=1\n",
    "        for s in list(p.size()):\n",
    "            nn = nn*s\n",
    "        pp += nn\n",
    "    return pp"
   ]
  },
  {
   "cell_type": "code",
   "execution_count": null,
   "id": "af845671-b2bf-4e1a-8951-9c74e7df81f9",
   "metadata": {},
   "outputs": [],
   "source": [
    "class ConvolutionLayer(nn.Module):\n",
    "    def __init__(self, infilters, outfilters, kernal_size=3):\n",
    "        super().__init__()\n",
    "        \n",
    "        self.conv2d_sequential = nn.Sequential(                \n",
    "            nn.Conv2d(infilters, outfilters, kernal_size, padding=(kernal_size - 1) // 2),\n",
    "            nn.BatchNorm2d(outfilters),\n",
    "            nn.ReLU(),\n",
    "        )\n",
    "\n",
    "    def forward(self, x):\n",
    "        x = self.conv2d_sequential(x)\n",
    "        return x\n",
    "    \n",
    "class NeuralNetwork(nn.Module):\n",
    "    def __init__(self, inFilters, outFilters):\n",
    "        super().__init__()\n",
    "\n",
    "        self.conv_layer = ConvolutionLayer(inFilters, outFilters)\n",
    "\n",
    "    def forward(self, x):      \n",
    "        x = self.conv_layer(x)\n",
    "        \n",
    "        return x"
   ]
  },
  {
   "cell_type": "code",
   "execution_count": null,
   "id": "10136069-433c-4630-a099-b2a7d758e4c2",
   "metadata": {},
   "outputs": [],
   "source": [
    "# Model Hyperparameters / Config\n",
    "\n",
    "BatchSize = 128\n",
    "LogCount = 5\n",
    "datasetPathV1 = \"../../Datasets/HumanExamples/GeneratedDatasets/HD5,TS0.8,RULESETS(1-6, 8-29),Legacy\"\n",
    "datasetPathV2 = \"../../Datasets/HumanExamples/GeneratedDatasets/HD6,TS0.8,RULESETS(1-6, 8-29)\""
   ]
  },
  {
   "cell_type": "code",
   "execution_count": null,
   "id": "cfec3f1f",
   "metadata": {},
   "outputs": [],
   "source": [
    "# Load datasets into memory\n",
    "\n",
    "XtrainV1 = torch.from_numpy(np.fromfile(f'{datasetPathV1}/XTrain.bin', dtype=bool).astype(np.float32).reshape(-1, 11, 15, 15))\n",
    "XtestV1 = torch.from_numpy(np.fromfile(f'{datasetPathV1}/XTest.bin', dtype=bool).astype(np.float32).reshape(-1, 11, 15, 15))\n",
    "\n",
    "\n",
    "XtrainV2 = torch.from_numpy(np.fromfile(f'{datasetPathV2}/XTrain.bin', dtype=bool).astype(np.float32).reshape(-1, 7, 15, 15))\n",
    "XtestV2 = torch.from_numpy(np.fromfile(f'{datasetPathV2}/XTest.bin', dtype=bool).astype(np.float32).reshape(-1, 7, 15, 15))\n",
    "\n",
    "print(XtrainV1.shape)\n",
    "print(XtrainV2.shape)"
   ]
  },
  {
   "cell_type": "code",
   "execution_count": null,
   "id": "19d0e7ac",
   "metadata": {},
   "outputs": [],
   "source": [
    "def renderGamestateSliceV1(gamestate, HD, depth):\n",
    "    if HD  == 1:\n",
    "        blackStones = gamestate[2][:][:]\n",
    "        whiteStones = gamestate[1][:][:]\n",
    "    else:\n",
    "        blackStones = gamestate[HD * 2 - depth][:][:]\n",
    "        whiteStones = gamestate[HD - depth][:][:]\n",
    "    print(\"     0   1   2   3   4   5   6   7   8   9  10  11  12  13  14\")\n",
    "    print(\"   --------------------------------------------------------------\")\n",
    "    for y in range(14, -1, -1):\n",
    "        print(f'{y:2} |', end=\"\")\n",
    "        for x in range(15):\n",
    "            if blackStones[x][y] == 0 and whiteStones[x][y] == 0:\n",
    "                print(\"   \", end=\"\")\n",
    "            elif blackStones[x][y] == 1:\n",
    "                print(\" B \", end=\"\")\n",
    "            elif whiteStones[x][y] == 1:\n",
    "                print(\" W \", end=\"\")\n",
    "            print(\"|\", end=\"\")\n",
    "        print(\"\\n   --------------------------------------------------------------\")"
   ]
  },
  {
   "cell_type": "code",
   "execution_count": null,
   "id": "8e95a9e2",
   "metadata": {},
   "outputs": [],
   "source": [
    "i = 10\n",
    "print(\"Old:\")\n",
    "renderGamestateSliceV1(XtrainV1[i], 5, 3)\n",
    "print(\"New:\")\n",
    "print(Util.sliceGamestate(XtrainV2[i], 6, 1))"
   ]
  },
  {
   "cell_type": "code",
   "execution_count": null,
   "id": "508badfa",
   "metadata": {},
   "outputs": [],
   "source": [
    "train_dataset = TensorDataset(Xtrain, Ytrain)\n",
    "train_loader = DataLoader(train_dataset, batch_size=BatchSize, shuffle=True)\n",
    "test_dataset = TensorDataset(Xtest, Ytest)\n",
    "test_loader = DataLoader(test_dataset, batch_size=BatchSize, shuffle=False)"
   ]
  },
  {
   "cell_type": "code",
   "execution_count": null,
   "id": "56c6b330",
   "metadata": {},
   "outputs": [],
   "source": [
    "model = NeuralNetwork().to(device)\n",
    "#model = torch.compile(model)\n",
    "\n",
    "wandb_logging = False\n",
    "loss_fn = nn.CrossEntropyLoss()\n",
    "optimizer = torch.optim.AdamW(model.parameters())\n",
    "\n",
    "paramCount = sum(p.numel() for p in model.parameters())\n",
    "print(paramCount)"
   ]
  },
  {
   "cell_type": "code",
   "execution_count": null,
   "id": "98d8ff88",
   "metadata": {},
   "outputs": [],
   "source": [
    "# Validate dataset (recommended before training)\n",
    "\n",
    "randomSample = np.random.randint(0, len(Xtrain))\n",
    "randomSample = 1\n",
    "renderGamestateSlice(Xtrain[randomSample], HistoryDepth)\n",
    "index = Ytrain[randomSample].argmax(0)\n",
    "print(f\"Move: {index // 15}, {index % 15}\")"
   ]
  },
  {
   "cell_type": "code",
   "execution_count": null,
   "id": "e17e25b7-d451-4302-9bb6-1ee0700dca94",
   "metadata": {},
   "outputs": [],
   "source": [
    "# Init wandb tracking\n",
    "wandb.init(project='TorchGomoku', config={\"DatasetName\": datasetName, \"BatchSize\": BatchSize, \"LogCount\": LogCount, \"HistoryDepth\" : HistoryDepth, \"Filters\": Filters, \"Layers\" : Layers, \"KernalSize\" : KernalSize}, tags=[\"AlphaGo\"])\n",
    "wandb_logging = True"
   ]
  },
  {
   "cell_type": "code",
   "execution_count": null,
   "id": "275f7b23-a687-4a3d-9925-0b9624e36123",
   "metadata": {},
   "outputs": [],
   "source": [
    "wandb.run.notes = \"Trying no history\""
   ]
  },
  {
   "cell_type": "code",
   "execution_count": null,
   "id": "0c0ae556-5dd0-4d39-96af-852d0f8bd3ab",
   "metadata": {},
   "outputs": [],
   "source": [
    "# Start training for specified epochs\n",
    "\n",
    "epochs = 15\n",
    "checkpoints = []\n",
    "for epoch in range(epochs):\n",
    "    print(f\"Epoch {epoch+1}\\n-------------------------------\")\n",
    "    train(train_loader, model, loss_fn, optimizer, epoch, logcount=LogCount, wandb_log=wandb_logging)\n",
    "    test(test_loader, model, loss_fn, epoch, wandb_log=wandb_logging)\n",
    "    checkpoints.append(model.state_dict())\n",
    "print(\"Done!\")"
   ]
  },
  {
   "cell_type": "code",
   "execution_count": null,
   "id": "72c60908-b520-4a74-84d5-78eb7de3a818",
   "metadata": {},
   "outputs": [],
   "source": [
    "wandb.finish()"
   ]
  },
  {
   "cell_type": "code",
   "execution_count": null,
   "id": "98ad3223",
   "metadata": {},
   "outputs": [],
   "source": [
    "torch.save(model.state_dict(), \"Model/Models/test1noHistory.pt\")"
   ]
  },
  {
   "cell_type": "code",
   "execution_count": null,
   "id": "9fd8ffb3-addf-4ad4-89d5-0e68ebabc65a",
   "metadata": {},
   "outputs": [],
   "source": [
    "modelNamePath = \"../Models/HumanModels/128f20l3kAllBut7H1\"\n",
    "for i, checkpoint in enumerate(checkpoints):\n",
    "    torch.save(checkpoint, f'{modelNamePath}/{i}.pt')"
   ]
  }
 ],
 "metadata": {
  "kernelspec": {
   "display_name": "Python 3 (ipykernel)",
   "language": "python",
   "name": "python3"
  },
  "language_info": {
   "codemirror_mode": {
    "name": "ipython",
    "version": 3
   },
   "file_extension": ".py",
   "mimetype": "text/x-python",
   "name": "python",
   "nbconvert_exporter": "python",
   "pygments_lexer": "ipython3",
   "version": "3.8.17"
  }
 },
 "nbformat": 4,
 "nbformat_minor": 5
}
