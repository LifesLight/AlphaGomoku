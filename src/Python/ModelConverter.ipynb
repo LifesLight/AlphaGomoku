{
 "cells": [
  {
   "cell_type": "code",
   "execution_count": 1,
   "metadata": {},
   "outputs": [],
   "source": [
    "import numpy as np\n",
    "import torch\n",
    "from Utilities import Utilities as Utils"
   ]
  },
  {
   "cell_type": "code",
   "execution_count": 3,
   "metadata": {},
   "outputs": [],
   "source": [
    "# Model hyperparameters\n",
    "Filters = 128\n",
    "Layers = 13\n",
    "HistoryDepth = 8\n",
    "TargetDevice = \"cuda\"\n",
    "model_name = \"test2\"\n",
    "target_path = '../../Models/scripted/'\n",
    "\n",
    "resnetModel, policyModel, valueModel = Utils.modelLoader(model_name, Filters, Layers, HistoryDepth, TargetDevice)\n",
    "\n",
    "resnetExample = np.zeros((1, HistoryDepth + 1, 15, 15), dtype=np.float32) \n",
    "resnetExample = torch.tensor(resnetExample)\n",
    "resnetExample = resnetExample.to(TargetDevice)\n",
    "\n",
    "headsExample = np.zeros((1, Filters, 15, 15), dtype=np.float32)\n",
    "headsExample = torch.tensor(headsExample)\n",
    "headsExample = headsExample.to(TargetDevice)\n",
    "\n",
    "traced_resnet = torch.jit.trace(resnetModel, resnetExample)\n",
    "traced_polhead = torch.jit.trace(policyModel, headsExample)\n",
    "traced_valhead = torch.jit.trace(valueModel, headsExample)\n",
    "\n",
    "traced_resnet.save(f'{target_path}/ResNet/{model_name}.pt')\n",
    "traced_polhead.save(f'{target_path}/PolHead/{model_name}.pt')\n",
    "traced_valhead.save(f'{target_path}/ValHead/{model_name}.pt')"
   ]
  }
 ],
 "metadata": {
  "kernelspec": {
   "display_name": "Python 3",
   "language": "python",
   "name": "python3"
  },
  "language_info": {
   "codemirror_mode": {
    "name": "ipython",
    "version": 3
   },
   "file_extension": ".py",
   "mimetype": "text/x-python",
   "name": "python",
   "nbconvert_exporter": "python",
   "pygments_lexer": "ipython3",
   "version": "3.10.13"
  },
  "orig_nbformat": 4
 },
 "nbformat": 4,
 "nbformat_minor": 2
}
