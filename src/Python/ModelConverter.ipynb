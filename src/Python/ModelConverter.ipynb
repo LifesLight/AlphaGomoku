{
 "cells": [
  {
   "cell_type": "code",
   "execution_count": 1,
   "metadata": {},
   "outputs": [],
   "source": [
    "import numpy as np\n",
    "import torch\n",
    "from NeuralNet import NeuralNetwork as Network\n",
    "import wandb"
   ]
  },
  {
   "cell_type": "code",
   "execution_count": 3,
   "metadata": {},
   "outputs": [],
   "source": [
    "# Model hyperparameters\n",
    "Filters = 256\n",
    "Layers = 40\n",
    "HistoryDepth = 8\n",
    "TargetDevice = \"cuda\"\n",
    "model = Network(Filters, HistoryDepth + 1, Layers, kernal_size=3)\n",
    "\n",
    "# Model source\n",
    "modelPath = \"../../Models/HumanModels/256f40l/5.pt\"\n",
    "\n",
    "\n",
    "model.load_state_dict(torch.load(modelPath))\n",
    "model.to(TargetDevice)\n",
    "model.eval()\n",
    "\n",
    "example = np.zeros((1, HistoryDepth + 1, 15, 15), dtype=np.float32) \n",
    "example = torch.tensor(example).to(TargetDevice)\n",
    "\n",
    "traced_script_module = torch.jit.trace(model, example)\n",
    "traced_script_module.save(f'../../Models/HumanModels/scripted/{Filters}f_{Layers}l_{HistoryDepth}hd.pt')"
   ]
  }
 ],
 "metadata": {
  "kernelspec": {
   "display_name": "Python 3",
   "language": "python",
   "name": "python3"
  },
  "language_info": {
   "codemirror_mode": {
    "name": "ipython",
    "version": 3
   },
   "file_extension": ".py",
   "mimetype": "text/x-python",
   "name": "python",
   "nbconvert_exporter": "python",
   "pygments_lexer": "ipython3",
   "version": "3.10.13"
  },
  "orig_nbformat": 4
 },
 "nbformat": 4,
 "nbformat_minor": 2
}
