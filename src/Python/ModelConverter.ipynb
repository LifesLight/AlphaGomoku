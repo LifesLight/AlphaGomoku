{
 "cells": [
  {
   "cell_type": "code",
   "execution_count": null,
   "metadata": {},
   "outputs": [],
   "source": [
    "import numpy as np\n",
    "import torch\n",
    "from NeuralNet import NeuralNetwork as Network"
   ]
  },
  {
   "cell_type": "code",
   "execution_count": null,
   "metadata": {},
   "outputs": [],
   "source": [
    "Filters = 64\n",
    "Layers = 10\n",
    "HistoryDepth = 8\n",
    "KernalSize = 3\n",
    "targetDevice = \"cpu\"\n",
    "\n",
    "model = Network(Filters, HistoryDepth + 1, Layers, kernal_size=KernalSize)\n",
    "\n",
    "model.load_state_dict(torch.load('../../Models/HumanModels/64f10l/4.pt'))\n",
    "model.to(targetDevice)\n",
    "model.eval()"
   ]
  },
  {
   "cell_type": "code",
   "execution_count": null,
   "metadata": {},
   "outputs": [],
   "source": [
    "example = np.zeros((1, HistoryDepth + 1, 15, 15), dtype=np.float32)\n",
    "example = torch.tensor(example)\n",
    "\n",
    "traced_script_module = torch.jit.trace(model, example)\n",
    "traced_script_module.save(\"../../Models/HumanModels/traced_model.pt\")"
   ]
  }
 ],
 "metadata": {
  "kernelspec": {
   "display_name": "Python 3",
   "language": "python",
   "name": "python3"
  },
  "language_info": {
   "codemirror_mode": {
    "name": "ipython",
    "version": 3
   },
   "file_extension": ".py",
   "mimetype": "text/x-python",
   "name": "python",
   "nbconvert_exporter": "python",
   "pygments_lexer": "ipython3",
   "version": "3.8.17"
  },
  "orig_nbformat": 4
 },
 "nbformat": 4,
 "nbformat_minor": 2
}
