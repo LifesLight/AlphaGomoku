{
 "cells": [
  {
   "cell_type": "code",
   "execution_count": 1,
   "metadata": {},
   "outputs": [],
   "source": [
    "import numpy as np\n",
    "import torch\n",
    "from NeuralNet import NeuralNetwork as Network\n",
    "import time\n",
    "from Utilities import Utilities as Utils\n",
    "from IPython.display import clear_output"
   ]
  },
  {
   "cell_type": "code",
   "execution_count": 2,
   "metadata": {},
   "outputs": [
    {
     "data": {
      "text/plain": [
       "NeuralNetwork(\n",
       "  (conv_layer): ConvolutionLayer(\n",
       "    (conv2d_sequential): Sequential(\n",
       "      (0): Conv2d(9, 128, kernel_size=(3, 3), stride=(1, 1), padding=(1, 1))\n",
       "      (1): BatchNorm2d(128, eps=1e-05, momentum=0.1, affine=True, track_running_stats=True)\n",
       "      (2): ReLU()\n",
       "    )\n",
       "  )\n",
       "  (residual_layers): ModuleList(\n",
       "    (0-19): 20 x ResidualLayer(\n",
       "      (conv2d_sequential): Sequential(\n",
       "        (0): Conv2d(128, 128, kernel_size=(3, 3), stride=(1, 1), padding=(1, 1))\n",
       "        (1): BatchNorm2d(128, eps=1e-05, momentum=0.1, affine=True, track_running_stats=True)\n",
       "        (2): ReLU()\n",
       "        (3): Conv2d(128, 128, kernel_size=(3, 3), stride=(1, 1), padding=(1, 1))\n",
       "        (4): BatchNorm2d(128, eps=1e-05, momentum=0.1, affine=True, track_running_stats=True)\n",
       "      )\n",
       "      (relu): ReLU()\n",
       "    )\n",
       "  )\n",
       "  (policy_head): PolicyHead(\n",
       "    (head): Sequential(\n",
       "      (0): Conv2d(128, 2, kernel_size=(1, 1), stride=(1, 1))\n",
       "      (1): Flatten(start_dim=1, end_dim=-1)\n",
       "      (2): BatchNorm1d(450, eps=1e-05, momentum=0.1, affine=True, track_running_stats=True)\n",
       "      (3): ReLU()\n",
       "      (4): Linear(in_features=450, out_features=225, bias=True)\n",
       "    )\n",
       "  )\n",
       "  (value_head): ValueHead(\n",
       "    (value): Sequential(\n",
       "      (0): Conv2d(128, 1, kernel_size=(1, 1), stride=(1, 1))\n",
       "      (1): BatchNorm2d(1, eps=1e-05, momentum=0.1, affine=True, track_running_stats=True)\n",
       "      (2): ReLU()\n",
       "      (3): Flatten(start_dim=1, end_dim=-1)\n",
       "      (4): Linear(in_features=225, out_features=256, bias=True)\n",
       "      (5): ReLU()\n",
       "      (6): Linear(in_features=256, out_features=1, bias=True)\n",
       "      (7): Tanh()\n",
       "    )\n",
       "  )\n",
       ")"
      ]
     },
     "execution_count": 2,
     "metadata": {},
     "output_type": "execute_result"
    }
   ],
   "source": [
    "Filters = 128\n",
    "Layers = 20\n",
    "HistoryDepth = 8\n",
    "KernalSize = 3\n",
    "\n",
    "model = Network(Filters, HistoryDepth + 1, Layers, kernal_size=KernalSize)\n",
    "\n",
    "model.load_state_dict(torch.load('../../Models/HumanModels/128f20l/4.pt'))\n",
    "model.eval()"
   ]
  },
  {
   "cell_type": "code",
   "execution_count": 3,
   "metadata": {},
   "outputs": [],
   "source": [
    "board = np.zeros((HistoryDepth + 1, 15, 15), dtype=bool)"
   ]
  },
  {
   "cell_type": "code",
   "execution_count": 5,
   "metadata": {},
   "outputs": [],
   "source": [
    "player = 1\n",
    "while (True):\n",
    "    if player % 2:\n",
    "        modelInput = torch.from_numpy(board.astype(np.float32)).unsqueeze(0)\n",
    "        with torch.no_grad():\n",
    "            output = model(modelInput)\n",
    "        policyOut, valueOut = output\n",
    "        policyOut = torch.nn.functional.softmax(policyOut, dim=1)\n",
    "        policyOut = np.array(policyOut)\n",
    "        policyOut = policyOut.reshape(15, 15)\n",
    "        policyOut *= ~board[1]\n",
    "        policyOut *= ~board[HistoryDepth // 2 + 1]\n",
    "        propabilityGrid = policyOut.copy()\n",
    "        policyOut = policyOut.flatten()\n",
    "\n",
    "        valueOut = valueOut[0].item()\n",
    "\n",
    "        index = policyOut.argmax()\n",
    "        x, y = int(index // 15), int(index % 15)\n",
    "        board = Utils.makeMove(board, x, y)\n",
    "        clear_output(wait=True)\n",
    "        print(x,y)\n",
    "        print(f'Evaluation: {valueOut}')\n",
    "        print(Utils.sliceGamestate(board, 0))\n",
    "        for x in range(15):\n",
    "            print(\"\")\n",
    "            for y in range(15):\n",
    "                print(f'{propabilityGrid[x][y].item() :.3f}', end=\"\")\n",
    "        time.sleep(1)\n",
    "    else:\n",
    "        x = int(input(\"X:\"))\n",
    "        y = int(input(\"Y:\"))\n",
    "\n",
    "        board = Utils.makeMove(board, x, y)\n",
    "        clear_output(wait=True)\n",
    "        print(Utils.sliceGamestate(board, 0))\n",
    "        time.sleep(1)\n",
    "    player += 1"
   ]
  }
 ],
 "metadata": {
  "kernelspec": {
   "display_name": "Python 3",
   "language": "python",
   "name": "python3"
  },
  "language_info": {
   "codemirror_mode": {
    "name": "ipython",
    "version": 3
   },
   "file_extension": ".py",
   "mimetype": "text/x-python",
   "name": "python",
   "nbconvert_exporter": "python",
   "pygments_lexer": "ipython3",
   "version": "3.10.13"
  },
  "orig_nbformat": 4
 },
 "nbformat": 4,
 "nbformat_minor": 2
}
