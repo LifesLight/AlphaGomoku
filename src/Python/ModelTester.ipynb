{
 "cells": [
  {
   "cell_type": "code",
   "execution_count": 1,
   "metadata": {},
   "outputs": [],
   "source": [
    "import numpy as np\n",
    "import torch\n",
    "from NeuralNet import NeuralNetwork as Network\n",
    "import time\n",
    "from Utilities import Utilities as Utils\n",
    "from IPython.display import clear_output"
   ]
  },
  {
   "cell_type": "code",
   "execution_count": 5,
   "metadata": {},
   "outputs": [
    {
     "data": {
      "text/plain": [
       "NeuralNetwork(\n",
       "  (conv_layer): ConvolutionLayer(\n",
       "    (conv2d_sequential): Sequential(\n",
       "      (0): Conv2d(9, 128, kernel_size=(3, 3), stride=(1, 1), padding=(1, 1))\n",
       "      (1): BatchNorm2d(128, eps=1e-05, momentum=0.1, affine=True, track_running_stats=True)\n",
       "      (2): ReLU()\n",
       "    )\n",
       "  )\n",
       "  (residual_layers): ModuleList(\n",
       "    (0-14): 15 x ResidualLayer(\n",
       "      (conv2d_sequential): Sequential(\n",
       "        (0): Conv2d(128, 128, kernel_size=(3, 3), stride=(1, 1), padding=(1, 1))\n",
       "        (1): BatchNorm2d(128, eps=1e-05, momentum=0.1, affine=True, track_running_stats=True)\n",
       "        (2): ReLU()\n",
       "        (3): Conv2d(128, 128, kernel_size=(3, 3), stride=(1, 1), padding=(1, 1))\n",
       "        (4): BatchNorm2d(128, eps=1e-05, momentum=0.1, affine=True, track_running_stats=True)\n",
       "      )\n",
       "      (relu): ReLU()\n",
       "    )\n",
       "  )\n",
       "  (policy_head): PolicyHead(\n",
       "    (head): Sequential(\n",
       "      (0): Conv2d(128, 2, kernel_size=(1, 1), stride=(1, 1))\n",
       "      (1): Flatten(start_dim=1, end_dim=-1)\n",
       "      (2): BatchNorm1d(450, eps=1e-05, momentum=0.1, affine=True, track_running_stats=True)\n",
       "      (3): ReLU()\n",
       "      (4): Linear(in_features=450, out_features=225, bias=True)\n",
       "    )\n",
       "  )\n",
       "  (value_head): ValueHead(\n",
       "    (value): Sequential(\n",
       "      (0): Conv2d(128, 1, kernel_size=(1, 1), stride=(1, 1))\n",
       "      (1): BatchNorm2d(1, eps=1e-05, momentum=0.1, affine=True, track_running_stats=True)\n",
       "      (2): ReLU()\n",
       "      (3): Flatten(start_dim=1, end_dim=-1)\n",
       "      (4): Linear(in_features=225, out_features=256, bias=True)\n",
       "      (5): ReLU()\n",
       "      (6): Linear(in_features=256, out_features=1, bias=True)\n",
       "      (7): Tanh()\n",
       "    )\n",
       "  )\n",
       ")"
      ]
     },
     "execution_count": 5,
     "metadata": {},
     "output_type": "execute_result"
    }
   ],
   "source": [
    "Filters = 128\n",
    "Layers = 15\n",
    "HistoryDepth = 8\n",
    "KernalSize = 3\n",
    "\n",
    "model = Network(Filters, HistoryDepth + 1, Layers, kernal_size=KernalSize)\n",
    "\n",
    "model.load_state_dict(torch.load('../../Models/HumanModels/128_15.pt', map_location=torch.device('cpu')))\n",
    "model.eval()"
   ]
  },
  {
   "cell_type": "code",
   "execution_count": 18,
   "metadata": {},
   "outputs": [],
   "source": [
    "board = np.zeros((HistoryDepth + 1, 15, 15), dtype=bool)"
   ]
  },
  {
   "cell_type": "code",
   "execution_count": 19,
   "metadata": {},
   "outputs": [
    {
     "name": "stdout",
     "output_type": "stream",
     "text": [
      "7 8\n",
      "   --------------------------------------------------------------\n",
      "14 |   |   |   |   |   |   |   |   |   |   |   |   |   |   |   |\n",
      "   --------------------------------------------------------------\n",
      "13 |   |   |   |   |   |   |   |   |   |   |   |   |   |   |   |\n",
      "   --------------------------------------------------------------\n",
      "12 |   |   |   |   |   |   |   |   |   |   |   |   |   |   |   |\n",
      "   --------------------------------------------------------------\n",
      "11 |   |   |   |   |   |   |   |   |   |   |   |   |   |   |   |\n",
      "   --------------------------------------------------------------\n",
      "10 |   |   |   |   |   |   |   |   |   |   |   |   |   |   |   |\n",
      "   --------------------------------------------------------------\n",
      " 9 |   |   |   |   |   |   |   |   |   |   |   |   |   |   |   |\n",
      "   --------------------------------------------------------------\n",
      " 8 |   |   |   |   |   |   |   | W | B |   |   |   |   |   |   |\n",
      "   --------------------------------------------------------------\n",
      " 7 |   |   |   |   |   |   |   | W |   |   |   |   |   |   |   |\n",
      "   --------------------------------------------------------------\n",
      " 6 |   |   |   |   |   |   | B | W | W |   |   |   |   |   |   |\n",
      "   --------------------------------------------------------------\n",
      " 5 |   |   |   |   |   |   |   | W |   |   |   |   |   |   |   |\n",
      "   --------------------------------------------------------------\n",
      " 4 |   |   |   |   | W |   |   |   |   |   |   |   |   |   |   |\n",
      "   --------------------------------------------------------------\n",
      " 3 |   |   |   | B |   |   |   |   |   |   |   |   |   |   |   |\n",
      "   --------------------------------------------------------------\n",
      " 2 |   |   | B |   |   |   |   |   |   |   |   |   |   |   |   |\n",
      "   --------------------------------------------------------------\n",
      " 1 |   | B |   |   |   |   |   |   |   |   |   |   |   |   |   |\n",
      "   --------------------------------------------------------------\n",
      " 0 |   |   |   |   |   |   |   |   |   |   |   |   |   |   |   |\n",
      "   --------------------------------------------------------------\n",
      "     0   1   2   3   4   5   6   7   8   9  10  11  12  13  14\n",
      "\n"
     ]
    },
    {
     "ename": "ValueError",
     "evalue": "invalid literal for int() with base 10: ''",
     "output_type": "error",
     "traceback": [
      "\u001b[0;31m---------------------------------------------------------------------------\u001b[0m",
      "\u001b[0;31mValueError\u001b[0m                                Traceback (most recent call last)",
      "\u001b[1;32m/Users/alex/Documents/Coding/Machine Learning/AlphaGomoku/src/Python/ModelTester.ipynb Cell 4\u001b[0m line \u001b[0;36m2\n\u001b[1;32m     <a href='vscode-notebook-cell:/Users/alex/Documents/Coding/Machine%20Learning/AlphaGomoku/src/Python/ModelTester.ipynb#W3sZmlsZQ%3D%3D?line=22'>23</a>\u001b[0m     time\u001b[39m.\u001b[39msleep(\u001b[39m1\u001b[39m)\n\u001b[1;32m     <a href='vscode-notebook-cell:/Users/alex/Documents/Coding/Machine%20Learning/AlphaGomoku/src/Python/ModelTester.ipynb#W3sZmlsZQ%3D%3D?line=23'>24</a>\u001b[0m \u001b[39melse\u001b[39;00m:\n\u001b[0;32m---> <a href='vscode-notebook-cell:/Users/alex/Documents/Coding/Machine%20Learning/AlphaGomoku/src/Python/ModelTester.ipynb#W3sZmlsZQ%3D%3D?line=24'>25</a>\u001b[0m     x \u001b[39m=\u001b[39m \u001b[39mint\u001b[39;49m(\u001b[39minput\u001b[39;49m(\u001b[39m\"\u001b[39;49m\u001b[39mX:\u001b[39;49m\u001b[39m\"\u001b[39;49m))\n\u001b[1;32m     <a href='vscode-notebook-cell:/Users/alex/Documents/Coding/Machine%20Learning/AlphaGomoku/src/Python/ModelTester.ipynb#W3sZmlsZQ%3D%3D?line=25'>26</a>\u001b[0m     y \u001b[39m=\u001b[39m \u001b[39mint\u001b[39m(\u001b[39minput\u001b[39m(\u001b[39m\"\u001b[39m\u001b[39mY:\u001b[39m\u001b[39m\"\u001b[39m))\n\u001b[1;32m     <a href='vscode-notebook-cell:/Users/alex/Documents/Coding/Machine%20Learning/AlphaGomoku/src/Python/ModelTester.ipynb#W3sZmlsZQ%3D%3D?line=27'>28</a>\u001b[0m     board \u001b[39m=\u001b[39m Utils\u001b[39m.\u001b[39mmakeMove(board, x, y)\n",
      "\u001b[0;31mValueError\u001b[0m: invalid literal for int() with base 10: ''"
     ]
    }
   ],
   "source": [
    "player = 1\n",
    "while (True):\n",
    "    if player % 2:\n",
    "        modelInput = torch.from_numpy(board.astype(np.float32)).unsqueeze(0)\n",
    "        with torch.no_grad():\n",
    "            output = model(modelInput)\n",
    "        policyOut, valueOut = output\n",
    "        policyOut = torch.nn.functional.softmax(policyOut, dim=1)\n",
    "        policyOut = np.array(policyOut)\n",
    "        policyOut = policyOut.reshape(15, 15)\n",
    "        policyOut *= ~board[HistoryDepth]\n",
    "        policyOut *= ~board[HistoryDepth // 2]\n",
    "        policyOut = policyOut.flatten()\n",
    "\n",
    "        valueOut = valueOut[0].item()\n",
    "\n",
    "        index = policyOut.argmax()\n",
    "        x, y = int(index // 15), int(index % 15)\n",
    "        board = Utils.makeMove(board, x, y)\n",
    "        clear_output(wait=True)\n",
    "        print(x,y)\n",
    "        print(Utils.sliceGamestate(board, 0))\n",
    "        time.sleep(1)\n",
    "    else:\n",
    "        x = int(input(\"X:\"))\n",
    "        y = int(input(\"Y:\"))\n",
    "\n",
    "        board = Utils.makeMove(board, x, y)\n",
    "        clear_output(wait=True)\n",
    "        print(Utils.sliceGamestate(board, 0))\n",
    "        time.sleep(1)\n",
    "    player += 1"
   ]
  }
 ],
 "metadata": {
  "kernelspec": {
   "display_name": "Python 3",
   "language": "python",
   "name": "python3"
  },
  "language_info": {
   "codemirror_mode": {
    "name": "ipython",
    "version": 3
   },
   "file_extension": ".py",
   "mimetype": "text/x-python",
   "name": "python",
   "nbconvert_exporter": "python",
   "pygments_lexer": "ipython3",
   "version": "3.8.17"
  },
  "orig_nbformat": 4
 },
 "nbformat": 4,
 "nbformat_minor": 2
}
