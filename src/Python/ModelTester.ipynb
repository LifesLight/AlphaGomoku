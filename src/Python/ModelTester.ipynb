{
 "cells": [
  {
   "cell_type": "code",
   "execution_count": null,
   "metadata": {},
   "outputs": [],
   "source": [
    "import numpy as np\n",
    "import torch\n",
    "from NeuralNet import NeuralNetwork as Network\n",
    "import time\n",
    "from Utilities import Utilities as Utils\n",
    "from IPython.display import clear_output"
   ]
  },
  {
   "cell_type": "code",
   "execution_count": null,
   "metadata": {},
   "outputs": [],
   "source": [
    "Filters = 128\n",
    "Layers = 20\n",
    "HistoryDepth = 8\n",
    "KernalSize = 3\n",
    "\n",
    "model = Network(Filters, HistoryDepth + 1, Layers, kernal_size=KernalSize)\n",
    "\n",
    "model.load_state_dict(torch.load('../../Models/HumanModels/128f20l/4.pt'))\n",
    "model.eval()"
   ]
  },
  {
   "cell_type": "code",
   "execution_count": null,
   "metadata": {},
   "outputs": [],
   "source": [
    "board = np.zeros((HistoryDepth + 1, 15, 15), dtype=bool)"
   ]
  },
  {
   "cell_type": "code",
   "execution_count": null,
   "metadata": {},
   "outputs": [],
   "source": [
    "player = 1\n",
    "while (True):\n",
    "    if player % 2:\n",
    "        modelInput = torch.from_numpy(board.astype(np.float32)).unsqueeze(0)\n",
    "        with torch.no_grad():\n",
    "            output = model(modelInput)\n",
    "        policyOut, valueOut = output\n",
    "        policyOut = torch.nn.functional.softmax(policyOut, dim=1)\n",
    "        policyOut = np.array(policyOut)\n",
    "        policyOut = policyOut.reshape(15, 15)\n",
    "        policyOut *= ~board[1]\n",
    "        policyOut *= ~board[HistoryDepth // 2 + 1]\n",
    "        policyOut = policyOut.flatten()\n",
    "\n",
    "        valueOut = valueOut[0].item()\n",
    "\n",
    "        index = policyOut.argmax()\n",
    "        x, y = int(index // 15), int(index % 15)\n",
    "        board = Utils.makeMove(board, x, y)\n",
    "        clear_output(wait=True)\n",
    "        print(x,y)\n",
    "        print(f'Evaluation: {valueOut}')\n",
    "        print(Utils.sliceGamestate(board, 0))\n",
    "        time.sleep(1)\n",
    "    else:\n",
    "        x = int(input(\"X:\"))\n",
    "        y = int(input(\"Y:\"))\n",
    "\n",
    "        board = Utils.makeMove(board, x, y)\n",
    "        clear_output(wait=True)\n",
    "        print(Utils.sliceGamestate(board, 0))\n",
    "        time.sleep(1)\n",
    "    player += 1"
   ]
  }
 ],
 "metadata": {
  "kernelspec": {
   "display_name": "Python 3",
   "language": "python",
   "name": "python3"
  },
  "language_info": {
   "codemirror_mode": {
    "name": "ipython",
    "version": 3
   },
   "file_extension": ".py",
   "mimetype": "text/x-python",
   "name": "python",
   "nbconvert_exporter": "python",
   "pygments_lexer": "ipython3",
   "version": "3.10.13"
  },
  "orig_nbformat": 4
 },
 "nbformat": 4,
 "nbformat_minor": 2
}
