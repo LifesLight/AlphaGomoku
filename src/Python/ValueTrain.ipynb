{
 "cells": [
  {
   "cell_type": "code",
   "execution_count": null,
   "metadata": {},
   "outputs": [],
   "source": [
    "import torch\n",
    "import wandb\n",
    "import numpy as np\n",
    "import torch.nn as nn\n",
    "from torch.utils.data import TensorDataset, DataLoader\n",
    "from Utilities import Utilities as Utils\n",
    "from NeuralNet import ResidualNetwork as ResNet\n",
    "from NeuralNet import PolicyNetwork as PolicyHead\n",
    "from NeuralNet import ValueNetwork as ValueHead\n",
    "\n",
    "import os\n",
    "\n",
    "device = (\n",
    "    \"cuda\"\n",
    "    if torch.cuda.is_available()\n",
    "    else \"mps\"\n",
    "    if torch.backends.mps.is_available()\n",
    "    else \"cpu\"\n",
    ")\n",
    "\n",
    "print(f'Torch: {torch.__version__} using {device} device')"
   ]
  },
  {
   "cell_type": "code",
   "execution_count": null,
   "metadata": {},
   "outputs": [],
   "source": [
    "def loadModel(ConstructedModel, Path):\n",
    "    ConstructedModel.load_state_dict(torch.load(Path, map_location=torch.device('cpu')))\n",
    "    ConstructedModel.eval()\n",
    "    ConstructedModel.to(device)\n",
    "\n",
    "def trainValue(dataloader, resNet, valNet, val_loss, optimizer, epoch, logcount=5, wandb_log=False):\n",
    "    size = len(dataloader.dataset)\n",
    "    loginterval = len(dataloader) // logcount\n",
    "    averageValLoss = 0.0\n",
    "\n",
    "    resNet.train()\n",
    "    valNet.train()\n",
    "    for batch, (X, yPol) in enumerate(dataloader):\n",
    "        X, yPol = X.to(device), yPol.to(device)\n",
    "\n",
    "        # Compute prediction error\n",
    "        resNetOut = resNet(X)\n",
    "        valPred = valNet(resNetOut)\n",
    "        valLoss = val_loss(valPred, yPol)\n",
    "\n",
    "        averageValLoss += valLoss.detach().item()\n",
    "        # Backpropagation\n",
    "        valLoss.backward()\n",
    "        optimizer.step()\n",
    "        optimizer.zero_grad()\n",
    "\n",
    "        if (batch % loginterval == 0) and (batch > 0):\n",
    "            logValLoss = averageValLoss / loginterval\n",
    "            averageValLoss = 0\n",
    "            current = batch * len(X)\n",
    "            print(f\"Val Loss: {logValLoss:>8f} [{current:>5d}/{size:>5d}]\")\n",
    "            if wandb_log:\n",
    "                wandb.log({\"epoch\": epoch, \"trainValLoss\": logValLoss})\n",
    "\n",
    "def testValue(dataloader, resNet, valNet, val_loss, epoch, wandb_log=False):\n",
    "    num_batches = len(dataloader)\n",
    "    resNet.eval()\n",
    "    valNet.eval()\n",
    "    testValLoss = 0\n",
    "    with torch.no_grad():\n",
    "        for X, yPol in dataloader:\n",
    "            X, yPol = X.to(device), yPol.to(device)\n",
    "            resNetOut = resNet(X)\n",
    "            valPred = valNet(resNetOut)\n",
    "            testValLoss += val_loss(valPred, yPol).detach().item()\n",
    "    testValLoss /= num_batches\n",
    "    if wandb_log:\n",
    "        wandb.log({\"epoch\" : epoch, \"testValLoss\": testValLoss})\n",
    "    print(f\"Test Error: \\n Val Loss: {testValLoss:>8f}\\n\")"
   ]
  },
  {
   "cell_type": "code",
   "execution_count": null,
   "metadata": {},
   "outputs": [],
   "source": [
    "Filters = 128\n",
    "Layers = 13\n",
    "HistoryDepth = 8\n",
    "BatchSize = 128\n",
    "LogCount = 5\n",
    "\n",
    "# Head hyperparameters\n",
    "ConvFilters = 256\n",
    "LinearFilters = 512\n",
    "\n",
    "datasetPath = \"../../Datasets/HumanExamples/GeneratedDatasets/HD8,TS0.8,RULESETS(1-6, 8-29)\"\n",
    "\n",
    "wandb_logging = False\n",
    "datasetName = datasetPath.split(\"/\")[-1]\n",
    "\n",
    "XTrain = Utils.loadDataset(f'{datasetPath}/XTrain.bin', (-1, HistoryDepth + 1, 15, 15), bool)\n",
    "YTrain = Utils.loadDataset(f'{datasetPath}/YTrainVal.bin', (-1, 1), np.int8)\n",
    "\n",
    "XTest = Utils.loadDataset(f'{datasetPath}/XTest.bin', (-1, HistoryDepth + 1, 15, 15), bool)\n",
    "YTest = Utils.loadDataset(f'{datasetPath}/YTestVal.bin', (-1, 1), np.int8)\n",
    "\n",
    "TrainDataloader = Utils.toDataloader(XTrain, YTrain, BatchSize=BatchSize, Shuffle=True)\n",
    "TestDataloader = Utils.toDataloader(XTest, YTest, BatchSize=BatchSize, Shuffle=True)"
   ]
  },
  {
   "cell_type": "code",
   "execution_count": null,
   "metadata": {},
   "outputs": [],
   "source": [
    "resNet = ResNet(Filters, Layers, HistoryDepth + 1)\n",
    "\n",
    "loadModel(resNet, \"../../Models/Human/ResNet/test1.pt\")\n",
    "\n",
    "for param in resNet.parameters():\n",
    "    param.requires_grad = False\n",
    "\n",
    "valHead = ValueHead(Filters, ConvFilters, LinearFilters).to(device)\n",
    "\n",
    "loss = nn.MSELoss()\n",
    "optimizer = torch.optim.AdamW(valHead.parameters())"
   ]
  },
  {
   "cell_type": "code",
   "execution_count": null,
   "metadata": {},
   "outputs": [],
   "source": [
    "# Init wandb tracking\n",
    "wandb.init(project='big-skull', config={\"DatasetName\": datasetName, \"BatchSize\": BatchSize, \"LogCount\": LogCount, \"HistoryDepth\" : HistoryDepth, \"InFilters\": Filters, \"ConvFilters\": ConvFilters, \"LinearFilters\": LinearFilters}, tags=[\"Multihead\", \"Value\"])\n",
    "wandb.run.notes = \"More linear layers\"\n",
    "wandb_logging = True"
   ]
  },
  {
   "cell_type": "code",
   "execution_count": null,
   "metadata": {},
   "outputs": [],
   "source": [
    "epochs = 3\n",
    "valHeadCheckpoints = []\n",
    "for epoch in range(epochs):\n",
    "    print(f\"Epoch {epoch+1}\\n-------------------------------\")\n",
    "    trainValue(TrainDataloader, resNet, valHead, loss, optimizer, epoch, logcount=LogCount, wandb_log=wandb_logging)\n",
    "    testValue(TestDataloader, resNet, valHead, loss, epoch, wandb_log=wandb_logging)\n",
    "    valHeadCheckpoints.append(valHead.state_dict())"
   ]
  },
  {
   "cell_type": "code",
   "execution_count": null,
   "metadata": {},
   "outputs": [],
   "source": [
    "if wandb_logging:\n",
    "    checkpoints_dir = os.path.join(wandb.run.dir, 'checkpoints')\n",
    "    os.makedirs(checkpoints_dir, exist_ok=True)\n",
    "\n",
    "    for i, checkpoint in enumerate(valHeadCheckpoints):\n",
    "        checkpoint_path = os.path.join(checkpoints_dir, f\"ValHead_{i}.pt\")\n",
    "        torch.save(checkpoint, checkpoint_path)\n",
    "        wandb.save(checkpoint_path, base_path=wandb.run.dir)\n",
    "    \n",
    "    wandb.finish()"
   ]
  }
 ],
 "metadata": {
  "kernelspec": {
   "display_name": "mlp",
   "language": "python",
   "name": "python3"
  },
  "language_info": {
   "codemirror_mode": {
    "name": "ipython",
    "version": 3
   },
   "file_extension": ".py",
   "mimetype": "text/x-python",
   "name": "python",
   "nbconvert_exporter": "python",
   "pygments_lexer": "ipython3",
   "version": "3.8.17"
  }
 },
 "nbformat": 4,
 "nbformat_minor": 2
}
