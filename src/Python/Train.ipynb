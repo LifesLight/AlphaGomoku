{
 "cells": [
  {
   "cell_type": "code",
   "execution_count": 1,
   "id": "43a4f0eb-f778-4641-8cc2-5fef9903c840",
   "metadata": {},
   "outputs": [
    {
     "name": "stdout",
     "output_type": "stream",
     "text": [
      "Torch: 2.1.0 using mps device\n"
     ]
    }
   ],
   "source": [
    "import torch\n",
    "import wandb\n",
    "import numpy as np\n",
    "import torch.nn as nn\n",
    "from torch.utils.data import TensorDataset, DataLoader\n",
    "from Utilities import Utilities as Utils\n",
    "from NeuralNet import ResidualNetwork as ResNet\n",
    "from NeuralNet import PolicyNetwork as PolicyHead\n",
    "from NeuralNet import ValueNetwork as ValueHead\n",
    "\n",
    "import os\n",
    "\n",
    "device = (\n",
    "    \"cuda\"\n",
    "    if torch.cuda.is_available()\n",
    "    else \"mps\"\n",
    "    if torch.backends.mps.is_available()\n",
    "    else \"cpu\"\n",
    ")\n",
    "\n",
    "print(f'Torch: {torch.__version__} using {device} device')"
   ]
  },
  {
   "cell_type": "code",
   "execution_count": 2,
   "id": "1b38eade-0b79-4802-b249-c08ea962fb9e",
   "metadata": {},
   "outputs": [],
   "source": [
    "# Basic Function definitions\n",
    "\n",
    "def trainPolicy(dataloader, resNet, polNet, pol_loss, optimizer, epoch, logcount=5, wandb_log=False):\n",
    "    size = len(dataloader.dataset)\n",
    "    loginterval = len(dataloader) // logcount\n",
    "    averagePolLoss = 0.0\n",
    "\n",
    "    resNet.train()\n",
    "    polNet.train()\n",
    "    for batch, (X, yPol) in enumerate(dataloader):\n",
    "        X, yPol = X.to(device), yPol.to(device)\n",
    "\n",
    "        # Compute prediction error\n",
    "        resNetOut = resNet(X)\n",
    "        polPred = polNet(resNetOut)\n",
    "        polLoss = pol_loss(polPred, yPol)\n",
    "\n",
    "        averagePolLoss += polLoss.detach().item()\n",
    "        # Backpropagation\n",
    "        polLoss.backward()\n",
    "        optimizer.step()\n",
    "        optimizer.zero_grad()\n",
    "\n",
    "        if (batch % loginterval == 0) and (batch > 0):\n",
    "            logPolLoss = averagePolLoss / loginterval\n",
    "            averagePolLoss = 0\n",
    "            current = batch * len(X)\n",
    "            print(f\"Pol Loss: {logPolLoss:>8f} [{current:>5d}/{size:>5d}]\")\n",
    "            if wandb_log:\n",
    "                wandb.log({\"epoch\": epoch, \"trainPolLoss\": logPolLoss})\n",
    "\n",
    "def testPolicy(dataloader, resNet, polNet, pol_loss, epoch, wandb_log=False):\n",
    "    size = len(dataloader.dataset)\n",
    "    num_batches = len(dataloader)\n",
    "    resNet.eval()\n",
    "    polNet.eval()\n",
    "    testPolLoss, polCorrect = 0, 0\n",
    "    with torch.no_grad():\n",
    "        for X, yPol in dataloader:\n",
    "            X, yPol = X.to(device), yPol.to(device)\n",
    "            resNetOut = resNet(X)\n",
    "            polPred = polNet(resNetOut)\n",
    "            testPolLoss += pol_loss(polPred, yPol).detach().item()\n",
    "            polCorrect += (polPred.argmax(1) == yPol.argmax(1)).type(torch.float).sum().item()\n",
    "    testPolLoss /= num_batches\n",
    "    polCorrect /= size\n",
    "    if wandb_log:\n",
    "        wandb.log({\"epoch\" : epoch, \"testPolAcc\": polCorrect, \"testPolLoss\": testPolLoss})\n",
    "    print(f\"Test Error: \\n Pol Acc: {(100*polCorrect):>0.3f}%, Pol Loss: {testPolLoss:>8f}\\n\")\n",
    "\n",
    "def parameterCount(model):\n",
    "    pp = 0\n",
    "    for p in model.parameters():\n",
    "        if p.requires_grad:\n",
    "            nn = 1\n",
    "            for s in p.size():\n",
    "                nn *= s\n",
    "            pp += nn\n",
    "    return pp"
   ]
  },
  {
   "cell_type": "code",
   "execution_count": 3,
   "id": "10136069-433c-4630-a099-b2a7d758e4c2",
   "metadata": {},
   "outputs": [
    {
     "name": "stdout",
     "output_type": "stream",
     "text": [
      "Res:2967552; Pol:102633; Val:58244\n",
      "Total:3128429\n"
     ]
    }
   ],
   "source": [
    "# Model Hyperparameters / Config\n",
    "\n",
    "Filters = 128\n",
    "Layers = 10\n",
    "HistoryDepth = 8\n",
    "BatchSize = 256\n",
    "LogCount = 5\n",
    "datasetPath = \"../../Datasets/HumanExamples/GeneratedDatasets/HD8,AUG,TS0.8,RULESETS(1)\"\n",
    "\n",
    "resModel = ResNet(Filters, Layers, HistoryDepth + 1).to(device)\n",
    "polModel = PolicyHead(Filters).to(device)\n",
    "valModel = ValueHead(Filters).to(device)\n",
    "\n",
    "wandb_logging = False\n",
    "datasetName = datasetPath.split(\"/\")[-1]\n",
    "\n",
    "resParameters = parameterCount(resModel)\n",
    "polParameters = parameterCount(polModel)\n",
    "valParameters = parameterCount(valModel)\n",
    "totalParameters = resParameters + polParameters + valParameters\n",
    "print(f'Res:{resParameters}; Pol:{polParameters}; Val:{valParameters}')\n",
    "print(f'Total:{totalParameters}')\n",
    "\n",
    "# Load dataset into memory\n",
    "historyDimSize = HistoryDepth + 1\n",
    "Xtrain = torch.from_numpy(np.fromfile(f'{datasetPath}/XTrain.bin', dtype=bool).astype(np.float32).reshape(-1, historyDimSize, 15, 15))\n",
    "YtrainPol = torch.from_numpy(np.fromfile(f'{datasetPath}/YTrainPol.bin', dtype=bool).astype(np.float32).reshape(-1, 225))\n",
    "YtrainVal = torch.from_numpy(np.fromfile(f'{datasetPath}/YTrainVal.bin', dtype=np.int8).astype(np.float32).reshape(-1, 1))\n",
    "Xtest = torch.from_numpy(np.fromfile(f'{datasetPath}/XTest.bin', dtype=bool).astype(np.float32).reshape(-1, historyDimSize, 15, 15))\n",
    "YtestPol = torch.from_numpy(np.fromfile(f'{datasetPath}/YTestPol.bin', dtype=bool).astype(np.float32).reshape(-1, 225))\n",
    "YtestVal = torch.from_numpy(np.fromfile(f'{datasetPath}/YTestVal.bin', dtype=np.int8).astype(np.float32).reshape(-1, 1))\n",
    "\n",
    "# Policy Training\n",
    "pol_train_dataset = TensorDataset(Xtrain, YtrainPol)\n",
    "pol_train_dataloader = DataLoader(pol_train_dataset, batch_size=BatchSize, shuffle=True)\n",
    "pol_test_dataset = TensorDataset(Xtest, YtestPol)\n",
    "pol_test_dataloader = DataLoader(pol_test_dataset, batch_size=BatchSize, shuffle=True)\n",
    "\n",
    "# Value Training\n",
    "val_train_dataset = TensorDataset(Xtrain, YtrainVal)\n",
    "val_train_dataloader = DataLoader(val_train_dataset, batch_size=BatchSize, shuffle=False)\n",
    "val_test_dataset = TensorDataset(Xtest, YtestVal)\n",
    "val_test_dataloader = DataLoader(val_test_dataset, batch_size=BatchSize, shuffle=False)"
   ]
  },
  {
   "cell_type": "code",
   "execution_count": 4,
   "id": "98d8ff88",
   "metadata": {},
   "outputs": [
    {
     "name": "stdout",
     "output_type": "stream",
     "text": [
      "   --------------------------------------------------------------\n",
      "14 |   |   |   |   |   |   |   |   |   |   |   |   |   |   |   |\n",
      "   --------------------------------------------------------------\n",
      "13 |   |   |   |   |   |   |   |   |   |   |   |   |   |   |   |\n",
      "   --------------------------------------------------------------\n",
      "12 |   |   |   | B |   |   |   |   |   |   |   |   |   |   |   |\n",
      "   --------------------------------------------------------------\n",
      "11 |   |   |   |   | W |   |   |   |   |   |   |   |   |   |   |\n",
      "   --------------------------------------------------------------\n",
      "10 |   |   |   | W | W | W | B |   |   |   |   |   |   |   |   |\n",
      "   --------------------------------------------------------------\n",
      " 9 |   |   |   | B | B | B | W |   |   |   |   |   |   |   |   |\n",
      "   --------------------------------------------------------------\n",
      " 8 |   |   |   |   | W | B | W | W | W |   |   |   |   |   |   |\n",
      "   --------------------------------------------------------------\n",
      " 7 |   |   |   |   | B | W | B | B | B |   |   |   |   |   |   |\n",
      "   --------------------------------------------------------------\n",
      " 6 |   |   |   |   | B |   |   |   |   |   |   |   |   |   |   |\n",
      "   --------------------------------------------------------------\n",
      " 5 |   |   |   |   |   |   |   |   |   |   |   |   |   |   |   |\n",
      "   --------------------------------------------------------------\n",
      " 4 |   |   |   |   |   |   |   |   |   |   |   |   |   |   |   |\n",
      "   --------------------------------------------------------------\n",
      " 3 |   |   |   |   |   |   |   |   |   |   |   |   |   |   |   |\n",
      "   --------------------------------------------------------------\n",
      " 2 |   |   |   |   |   |   |   |   |   |   |   |   |   |   |   |\n",
      "   --------------------------------------------------------------\n",
      " 1 |   |   |   |   |   |   |   |   |   |   |   |   |   |   |   |\n",
      "   --------------------------------------------------------------\n",
      " 0 |   |   |   |   |   |   |   |   |   |   |   |   |   |   |   |\n",
      "   --------------------------------------------------------------\n",
      "     0   1   2   3   4   5   6   7   8   9  10  11  12  13  14\n",
      "\n",
      "Turn: 1.0; Move: 2, 9; Winning: 1.0\n"
     ]
    }
   ],
   "source": [
    "# Validate dataset (recommended before training)\n",
    "randomSample = np.random.randint(0, len(Xtrain))\n",
    "gamestate = Xtrain[randomSample]\n",
    "print(Utils.sliceGamestate(gamestate))\n",
    "index = YtrainPol[randomSample].argmax(0)\n",
    "winning = YtrainVal[randomSample]\n",
    "x, y = Utils.indexToCords(index)\n",
    "print(f\"Turn: {gamestate[0][0][0]}; Move: {x}, {y}; Winning: {winning[0].item()}\")"
   ]
  },
  {
   "cell_type": "code",
   "execution_count": 4,
   "id": "7e9814b2",
   "metadata": {},
   "outputs": [],
   "source": [
    "polLoss = nn.CrossEntropyLoss()\n",
    "valLoss = nn.MSELoss()\n",
    "\n",
    "polParameters = list(resModel.parameters()) + list(polModel.parameters())\n",
    "polOptimizer = torch.optim.AdamW(polParameters)"
   ]
  },
  {
   "cell_type": "code",
   "execution_count": 5,
   "id": "e17e25b7-d451-4302-9bb6-1ee0700dca94",
   "metadata": {},
   "outputs": [
    {
     "name": "stderr",
     "output_type": "stream",
     "text": [
      "Failed to detect the name of this notebook, you can set it manually with the WANDB_NOTEBOOK_NAME environment variable to enable code saving.\n",
      "\u001b[34m\u001b[1mwandb\u001b[0m: Currently logged in as: \u001b[33malexkurtz\u001b[0m (\u001b[33mbig-skull\u001b[0m). Use \u001b[1m`wandb login --relogin`\u001b[0m to force relogin\n"
     ]
    },
    {
     "data": {
      "text/html": [
       "wandb version 0.15.12 is available!  To upgrade, please run:\n",
       " $ pip install wandb --upgrade"
      ],
      "text/plain": [
       "<IPython.core.display.HTML object>"
      ]
     },
     "metadata": {},
     "output_type": "display_data"
    },
    {
     "data": {
      "text/html": [
       "Tracking run with wandb version 0.15.11"
      ],
      "text/plain": [
       "<IPython.core.display.HTML object>"
      ]
     },
     "metadata": {},
     "output_type": "display_data"
    },
    {
     "data": {
      "text/html": [
       "Run data is saved locally in <code>/Users/alex/Documents/Coding/Machine Learning/AlphaGomoku/src/Python/wandb/run-20231017_075924-yd543o9f</code>"
      ],
      "text/plain": [
       "<IPython.core.display.HTML object>"
      ]
     },
     "metadata": {},
     "output_type": "display_data"
    },
    {
     "data": {
      "text/html": [
       "Syncing run <strong><a href='https://wandb.ai/big-skull/big-skull/runs/yd543o9f' target=\"_blank\">sparkling-planet-12</a></strong> to <a href='https://wandb.ai/big-skull/big-skull' target=\"_blank\">Weights & Biases</a> (<a href='https://wandb.me/run' target=\"_blank\">docs</a>)<br/>"
      ],
      "text/plain": [
       "<IPython.core.display.HTML object>"
      ]
     },
     "metadata": {},
     "output_type": "display_data"
    },
    {
     "data": {
      "text/html": [
       " View project at <a href='https://wandb.ai/big-skull/big-skull' target=\"_blank\">https://wandb.ai/big-skull/big-skull</a>"
      ],
      "text/plain": [
       "<IPython.core.display.HTML object>"
      ]
     },
     "metadata": {},
     "output_type": "display_data"
    },
    {
     "data": {
      "text/html": [
       " View run at <a href='https://wandb.ai/big-skull/big-skull/runs/yd543o9f' target=\"_blank\">https://wandb.ai/big-skull/big-skull/runs/yd543o9f</a>"
      ],
      "text/plain": [
       "<IPython.core.display.HTML object>"
      ]
     },
     "metadata": {},
     "output_type": "display_data"
    }
   ],
   "source": [
    "# Init wandb tracking\n",
    "wandb.init(project='big-skull', config={\"DatasetName\": datasetName, \"BatchSize\": BatchSize, \"LogCount\": LogCount, \"HistoryDepth\" : HistoryDepth, \"Filters\": Filters, \"Layers\" : Layers,  \"ParameterCount\" : totalParameters}, tags=[\"Multihead\"])\n",
    "wandb.notes = \"Resnet and policy\"\n",
    "wandb_logging = True"
   ]
  },
  {
   "cell_type": "code",
   "execution_count": 6,
   "id": "0c0ae556-5dd0-4d39-96af-852d0f8bd3ab",
   "metadata": {},
   "outputs": [
    {
     "name": "stdout",
     "output_type": "stream",
     "text": [
      "Epoch 1\n",
      "-------------------------------\n"
     ]
    }
   ],
   "source": [
    "# Start training for specified epochs\n",
    "\n",
    "epochs = 10\n",
    "resNetCheckpoints = []\n",
    "polNetCheckpoints = []\n",
    "for epoch in range(epochs):\n",
    "    print(f\"Epoch {epoch+1}\\n-------------------------------\")\n",
    "    trainPolicy(pol_train_dataloader, resModel, polModel, polLoss, polOptimizer, epoch, logcount=LogCount, wandb_log=wandb_logging)\n",
    "    testPolicy(pol_test_dataloader, resModel, polModel, polLoss, epoch, wandb_log=wandb_logging)\n",
    "    resNetCheckpoints.append(resModel.state_dict())\n",
    "    polNetCheckpoints.append(polModel.state_dict())\n",
    "\n",
    "print(\"Done!\")"
   ]
  },
  {
   "cell_type": "code",
   "execution_count": null,
   "id": "96e6b590",
   "metadata": {},
   "outputs": [],
   "source": [
    "if wandb_logging:\n",
    "    checkpoints_dir = os.path.join(wandb.run.dir, 'checkpoints')\n",
    "    os.makedirs(checkpoints_dir, exist_ok=True)\n",
    "\n",
    "    for i in range(len(resNetCheckpoints)):\n",
    "        resNetPath = os.path.join(checkpoints_dir, f'{Filters}f_{Layers}l_cp:{i}_ResNet')\n",
    "        polNetPath = os.path.join(checkpoints_dir, f'{Filters}f_cp:{i}_PolNet')\n",
    "\n",
    "        torch.save(resNetCheckpoints[i], resNetPath)\n",
    "        torch.save(polNetCheckpoints[i], polNetPath)\n",
    "\n",
    "        wandb.save(resNetPath, base_path=wandb.run.dir)\n",
    "        wandb.save(polNetPath, base_path=wandb.run.dir)\n",
    "    wandb.finish()"
   ]
  }
 ],
 "metadata": {
  "kernelspec": {
   "display_name": "Python 3 (ipykernel)",
   "language": "python",
   "name": "python3"
  },
  "language_info": {
   "codemirror_mode": {
    "name": "ipython",
    "version": 3
   },
   "file_extension": ".py",
   "mimetype": "text/x-python",
   "name": "python",
   "nbconvert_exporter": "python",
   "pygments_lexer": "ipython3",
   "version": "3.8.17"
  }
 },
 "nbformat": 4,
 "nbformat_minor": 5
}
