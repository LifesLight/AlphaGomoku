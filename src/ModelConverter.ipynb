{
 "cells": [
  {
   "cell_type": "code",
   "execution_count": 1,
   "metadata": {},
   "outputs": [],
   "source": [
    "import numpy as np\n",
    "import torch\n",
    "import torch.nn as nn"
   ]
  },
  {
   "cell_type": "code",
   "execution_count": 4,
   "metadata": {},
   "outputs": [],
   "source": [
    "class ResidualLayer(nn.Module):\n",
    "    def __init__(self, filters, kernal_size=3):\n",
    "        super().__init__()\n",
    "\n",
    "        self.conv2d_sequential = nn.Sequential(                \n",
    "            nn.Conv2d(filters, filters, kernal_size, padding=(kernal_size - 1) // 2),\n",
    "            nn.BatchNorm2d(filters),\n",
    "            nn.ReLU(),\n",
    "            nn.Conv2d(filters, filters, kernal_size, padding=(kernal_size - 1) // 2),\n",
    "            nn.BatchNorm2d(filters),\n",
    "        )\n",
    "\n",
    "        self.relu = nn.ReLU()\n",
    "\n",
    "    def forward(self, x):\n",
    "        residual = x\n",
    "        x = self.conv2d_sequential(x)\n",
    "        x += residual\n",
    "        x = self.relu(x)\n",
    "\n",
    "        return x\n",
    "    \n",
    "class ConvolutionLayer(nn.Module):\n",
    "    def __init__(self, infilters, outfilters, kernal_size=3):\n",
    "        super().__init__()\n",
    "        \n",
    "        self.conv2d_sequential = nn.Sequential(                \n",
    "            nn.Conv2d(infilters, outfilters, kernal_size, padding=(kernal_size - 1) // 2),\n",
    "            nn.BatchNorm2d(outfilters),\n",
    "            nn.ReLU(),\n",
    "        )\n",
    "\n",
    "    def forward(self, x):\n",
    "        x = self.conv2d_sequential(x)\n",
    "        return x\n",
    "    \n",
    "class PolicyHead(nn.Module):\n",
    "    def __init__(self, filters):\n",
    "        super().__init__()\n",
    "        self.filters = filters\n",
    "\n",
    "        self.head = nn.Sequential(\n",
    "            nn.Conv2d(self.filters, 1, 1),\n",
    "            nn.Flatten(),\n",
    "            nn.BatchNorm1d(225),\n",
    "            nn.ReLU(),\n",
    "            nn.Linear(225, 225)\n",
    "        )\n",
    "\n",
    "    def forward(self, x):\n",
    "        x = self.head(x)\n",
    "        return x\n",
    "\n",
    "class NeuralNetwork(nn.Module):\n",
    "    def __init__(self, filters, feature_dimensions, residual_layers=5, kernal_size=3):\n",
    "        super().__init__()\n",
    "\n",
    "        self.conv_layer = ConvolutionLayer(feature_dimensions, filters, kernal_size=kernal_size)\n",
    "        self.residual_layers = nn.ModuleList([ResidualLayer(filters, kernal_size=kernal_size) for _ in range(residual_layers)])\n",
    "        self.policy_head = PolicyHead(filters)\n",
    "\n",
    "    def forward(self, x):      \n",
    "        x = self.conv_layer(x)\n",
    "        for layer in self.residual_layers:\n",
    "            x = layer(x)\n",
    "        x = self.policy_head(x)\n",
    "        \n",
    "        return x\n",
    "    \n",
    "Filters = 128\n",
    "Layers = 20\n",
    "HistoryDepth = 7\n",
    "KernalSize = 5\n",
    "\n",
    "model = NeuralNetwork(Filters, HistoryDepth * 2 + 1, Layers, kernal_size=KernalSize)\n",
    "#model = torch.compile(model)"
   ]
  },
  {
   "cell_type": "code",
   "execution_count": 5,
   "metadata": {},
   "outputs": [
    {
     "data": {
      "text/plain": [
       "NeuralNetwork(\n",
       "  (conv_layer): ConvolutionLayer(\n",
       "    (conv2d_sequential): Sequential(\n",
       "      (0): Conv2d(15, 128, kernel_size=(5, 5), stride=(1, 1), padding=(2, 2))\n",
       "      (1): BatchNorm2d(128, eps=1e-05, momentum=0.1, affine=True, track_running_stats=True)\n",
       "      (2): ReLU()\n",
       "    )\n",
       "  )\n",
       "  (residual_layers): ModuleList(\n",
       "    (0-19): 20 x ResidualLayer(\n",
       "      (conv2d_sequential): Sequential(\n",
       "        (0): Conv2d(128, 128, kernel_size=(5, 5), stride=(1, 1), padding=(2, 2))\n",
       "        (1): BatchNorm2d(128, eps=1e-05, momentum=0.1, affine=True, track_running_stats=True)\n",
       "        (2): ReLU()\n",
       "        (3): Conv2d(128, 128, kernel_size=(5, 5), stride=(1, 1), padding=(2, 2))\n",
       "        (4): BatchNorm2d(128, eps=1e-05, momentum=0.1, affine=True, track_running_stats=True)\n",
       "      )\n",
       "      (relu): ReLU()\n",
       "    )\n",
       "  )\n",
       "  (policy_head): PolicyHead(\n",
       "    (head): Sequential(\n",
       "      (0): Conv2d(128, 1, kernel_size=(1, 1), stride=(1, 1))\n",
       "      (1): Flatten(start_dim=1, end_dim=-1)\n",
       "      (2): BatchNorm1d(225, eps=1e-05, momentum=0.1, affine=True, track_running_stats=True)\n",
       "      (3): ReLU()\n",
       "      (4): Linear(in_features=225, out_features=225, bias=True)\n",
       "    )\n",
       "  )\n",
       ")"
      ]
     },
     "execution_count": 5,
     "metadata": {},
     "output_type": "execute_result"
    }
   ],
   "source": [
    "model.load_state_dict(torch.load('../Models/HumanModels/128f20l5kAllBut715e/14.pt'))\n",
    "model.eval()"
   ]
  },
  {
   "cell_type": "code",
   "execution_count": 6,
   "metadata": {},
   "outputs": [],
   "source": [
    "example = np.zeros((1, 15, 15, 15), dtype=np.float32)\n",
    "example = torch.tensor(example)\n",
    "\n",
    "traced_script_module = torch.jit.trace(model, example)\n",
    "traced_script_module.save(\"traced_resnet_model.pt\")"
   ]
  }
 ],
 "metadata": {
  "kernelspec": {
   "display_name": "Python 3",
   "language": "python",
   "name": "python3"
  },
  "language_info": {
   "codemirror_mode": {
    "name": "ipython",
    "version": 3
   },
   "file_extension": ".py",
   "mimetype": "text/x-python",
   "name": "python",
   "nbconvert_exporter": "python",
   "pygments_lexer": "ipython3",
   "version": "3.10.13"
  },
  "orig_nbformat": 4
 },
 "nbformat": 4,
 "nbformat_minor": 2
}
