{
 "cells": [
  {
   "cell_type": "code",
   "execution_count": 1,
   "id": "43a4f0eb-f778-4641-8cc2-5fef9903c840",
   "metadata": {},
   "outputs": [
    {
     "name": "stdout",
     "output_type": "stream",
     "text": [
      "Using cuda device\n"
     ]
    }
   ],
   "source": [
    "import torch\n",
    "import wandb\n",
    "import numpy as np\n",
    "import torch.nn as nn\n",
    "import torch.optim as optim\n",
    "from torch.utils.data import Dataset, DataLoader, TensorDataset\n",
    "import torch.nn.functional as F\n",
    "from torchvision import transforms\n",
    "\n",
    "device = (\n",
    "    \"cuda\"\n",
    "    if torch.cuda.is_available()\n",
    "    else \"mps\"\n",
    "    if torch.backends.mps.is_available()\n",
    "    else \"cpu\"\n",
    ")\n",
    "print(f\"Using {device} device\")"
   ]
  },
  {
   "cell_type": "code",
   "execution_count": 2,
   "id": "1b38eade-0b79-4802-b249-c08ea962fb9e",
   "metadata": {},
   "outputs": [],
   "source": [
    "# Basic Function definitions\n",
    "\n",
    "def train(dataloader, model, loss_fn, optimizer, epoch, logcount=5, wandb_log=False):\n",
    "    size = len(dataloader.dataset)\n",
    "    loginterval = len(dataloader) // logcount\n",
    "    average_loss = 0.0\n",
    "\n",
    "    model.train()\n",
    "    for batch, (X, y) in enumerate(dataloader):\n",
    "        X, y = X.to(device), y.to(device)\n",
    "\n",
    "        # Compute prediction error\n",
    "        pred = model(X)\n",
    "        loss = loss_fn(pred, y)\n",
    "        average_loss += loss.detach().item()\n",
    "        \n",
    "        # Backpropagation\n",
    "        loss.backward()\n",
    "        optimizer.step()\n",
    "        optimizer.zero_grad()\n",
    "\n",
    "        if (batch % loginterval == 0) and (batch > 0):\n",
    "            log_loss = average_loss / loginterval\n",
    "            average_loss = 0\n",
    "            current = batch * len(X)\n",
    "            print(f\"loss: {log_loss:>8f}  [{current:>5d}/{size:>5d}]\")\n",
    "            if wandb_log:\n",
    "                wandb.log({\"epoch\": epoch, \"train_loss\": log_loss})\n",
    "\n",
    "def test(dataloader, model, loss_fn, epoch, wandb_log=False):\n",
    "    size = len(dataloader.dataset)\n",
    "    num_batches = len(dataloader)\n",
    "    model.eval()\n",
    "    test_loss, correct = 0, 0\n",
    "    with torch.no_grad():\n",
    "        for X, y in dataloader:\n",
    "            X, y = X.to(device), y.to(device)\n",
    "            pred = model(X)\n",
    "            test_loss += loss_fn(pred, y).detach().item()\n",
    "            correct += (pred.argmax(1) == y.argmax(1)).type(torch.float).sum().item()\n",
    "    test_loss /= num_batches\n",
    "    correct /= size\n",
    "    if wandb_log:\n",
    "        wandb.log({\"epoch\" : epoch, \"test_acc\": correct, \"test_loss\": test_loss})\n",
    "    print(f\"Test Error: \\n Accuracy: {(100*correct):>0.3f}%, Avg loss: {test_loss:>8f} \\n\")\n",
    "\n",
    "def parameterCount(model):\n",
    "    pp=0\n",
    "    for p in list(model.parameters()):\n",
    "        nn=1\n",
    "        for s in list(p.size()):\n",
    "            nn = nn*s\n",
    "        pp += nn\n",
    "    return pp"
   ]
  },
  {
   "cell_type": "code",
   "execution_count": 3,
   "id": "af845671-b2bf-4e1a-8951-9c74e7df81f9",
   "metadata": {},
   "outputs": [],
   "source": [
    "# The model architecture, change with caution due to possible state loading issues\n",
    "\n",
    "class ResidualLayer(nn.Module):\n",
    "    def __init__(self, filters, kernal_size=3):\n",
    "        super().__init__()\n",
    "\n",
    "        self.conv2d_sequential = nn.Sequential(                \n",
    "            nn.Conv2d(filters, filters, kernal_size, padding=(kernal_size - 1) // 2),\n",
    "            nn.BatchNorm2d(filters),\n",
    "            nn.ReLU(),\n",
    "            nn.Conv2d(filters, filters, kernal_size, padding=(kernal_size - 1) // 2),\n",
    "            nn.BatchNorm2d(filters),\n",
    "        )\n",
    "\n",
    "        self.relu = nn.ReLU()\n",
    "\n",
    "    def forward(self, x):\n",
    "        residual = x\n",
    "        x = self.conv2d_sequential(x)\n",
    "        x += residual\n",
    "        x = self.relu(x)\n",
    "\n",
    "        return x\n",
    "    \n",
    "class ConvolutionLayer(nn.Module):\n",
    "    def __init__(self, infilters, outfilters, kernal_size=3):\n",
    "        super().__init__()\n",
    "        \n",
    "        self.conv2d_sequential = nn.Sequential(                \n",
    "            nn.Conv2d(infilters, outfilters, kernal_size, padding=(kernal_size - 1) // 2),\n",
    "            nn.BatchNorm2d(outfilters),\n",
    "            nn.ReLU(),\n",
    "        )\n",
    "\n",
    "    def forward(self, x):\n",
    "        x = self.conv2d_sequential(x)\n",
    "        return x\n",
    "    \n",
    "class PolicyHead(nn.Module):\n",
    "    def __init__(self, filters):\n",
    "        super().__init__()\n",
    "        self.filters = filters\n",
    "\n",
    "        self.head = nn.Sequential(\n",
    "            nn.Conv2d(self.filters, 1, 1),\n",
    "            nn.Flatten(),\n",
    "            nn.BatchNorm1d(225),\n",
    "            nn.ReLU(),\n",
    "            nn.Linear(225, 225)\n",
    "        )\n",
    "\n",
    "    def forward(self, x):\n",
    "        x = self.head(x)\n",
    "        return x\n",
    "\n",
    "class NeuralNetwork(nn.Module):\n",
    "    def __init__(self, filters, feature_dimensions, residual_layers=5, kernal_size=3):\n",
    "        super().__init__()\n",
    "\n",
    "        self.conv_layer = ConvolutionLayer(feature_dimensions, filters, kernal_size=kernal_size)\n",
    "        self.residual_layers = nn.ModuleList([ResidualLayer(filters, kernal_size=kernal_size) for _ in range(residual_layers)])\n",
    "        self.policy_head = PolicyHead(filters)\n",
    "\n",
    "    def forward(self, x):      \n",
    "        x = self.conv_layer(x)\n",
    "        for layer in self.residual_layers:\n",
    "            x = layer(x)\n",
    "        x = self.policy_head(x)\n",
    "        \n",
    "        return x"
   ]
  },
  {
   "cell_type": "code",
   "execution_count": 4,
   "id": "10136069-433c-4630-a099-b2a7d758e4c2",
   "metadata": {},
   "outputs": [
    {
     "name": "stdout",
     "output_type": "stream",
     "text": [
      "16499173\n"
     ]
    }
   ],
   "source": [
    "# Model Hyperparameters / Config\n",
    "\n",
    "Filters = 128\n",
    "Layers = 20\n",
    "HistoryDepth = 7\n",
    "BatchSize = 128\n",
    "LogCount = 5\n",
    "KernalSize = 5\n",
    "datasetPath = \"../Datasets/HumanExamples/GeneratedDatasets/HD7,TS0.8,RULESETS(1-6, 8-29)\"\n",
    "\n",
    "model = NeuralNetwork(Filters, HistoryDepth * 2 + 1, Layers, kernal_size=KernalSize).to(device)\n",
    "#model = torch.compile(model)\n",
    "\n",
    "wandb_logging = False\n",
    "datasetName = datasetPath.split(\"/\")[-1]\n",
    "loss_fn = nn.CrossEntropyLoss()\n",
    "optimizer = torch.optim.AdamW(model.parameters())\n",
    "\n",
    "paramCount = sum(p.numel() for p in model.parameters())\n",
    "print(paramCount)"
   ]
  },
  {
   "cell_type": "code",
   "execution_count": 5,
   "id": "cfec3f1f",
   "metadata": {},
   "outputs": [
    {
     "data": {
      "text/plain": [
       "torch.Size([2041934, 15, 15, 15])"
      ]
     },
     "execution_count": 5,
     "metadata": {},
     "output_type": "execute_result"
    }
   ],
   "source": [
    "# Load dataset into memory\n",
    "\n",
    "historyDimSize = HistoryDepth * 2 + 1\n",
    "Xtrain = torch.from_numpy(np.fromfile(f'{datasetPath}/XTrain.bin', dtype=bool).astype(np.float32).reshape(-1, historyDimSize, 15, 15))\n",
    "Ytrain = torch.from_numpy(np.fromfile(f'{datasetPath}/YTrain.bin', dtype=bool).astype(np.float32).reshape(-1, 225))\n",
    "Xtest = torch.from_numpy(np.fromfile(f'{datasetPath}/XTest.bin', dtype=bool).astype(np.float32).reshape(-1, historyDimSize, 15, 15))\n",
    "Ytest = torch.from_numpy(np.fromfile(f'{datasetPath}/YTest.bin', dtype=bool).astype(np.float32).reshape(-1, 225))\n",
    "\n",
    "train_dataset = TensorDataset(Xtrain, Ytrain)\n",
    "train_loader = DataLoader(train_dataset, batch_size=BatchSize, shuffle=True)\n",
    "test_dataset = TensorDataset(Xtest, Ytest)\n",
    "test_loader = DataLoader(test_dataset, batch_size=BatchSize, shuffle=False)\n",
    "\n",
    "def renderGamestateSlice(gamestate, depth):\n",
    "    blackStones = gamestate[HistoryDepth * 2 - depth][:][:]\n",
    "    whiteStones = gamestate[HistoryDepth - depth][:][:]\n",
    "    print(\"     1   2   3   4   5   6   7   8   9   10  11  12  13  14  15\")\n",
    "    print(\"   --------------------------------------------------------------\")\n",
    "    for y in range(15):\n",
    "        print(f'{15 - y:2} |', end=\"\")\n",
    "        for x in range(15):\n",
    "            if blackStones[x][y] == 0 and whiteStones[x][y] == 0:\n",
    "                print(\"   \", end=\"\")\n",
    "            elif blackStones[x][y] == 1:\n",
    "                print(\" X \", end=\"\")\n",
    "            elif whiteStones[x][y] == 1:\n",
    "                print(\" O \", end=\"\")\n",
    "            print(\"|\", end=\"\")\n",
    "        print(\"\\n   --------------------------------------------------------------\")\n",
    "\n",
    "Xtrain.shape"
   ]
  },
  {
   "cell_type": "code",
   "execution_count": 7,
   "id": "98d8ff88",
   "metadata": {},
   "outputs": [
    {
     "name": "stdout",
     "output_type": "stream",
     "text": [
      "     1   2   3   4   5   6   7   8   9   10  11  12  13  14  15\n",
      "   --------------------------------------------------------------\n",
      "15 |   |   |   |   |   |   |   |   |   |   |   |   |   |   |   |\n",
      "   --------------------------------------------------------------\n",
      "14 |   |   |   |   |   |   |   | O |   |   |   |   |   |   |   |\n",
      "   --------------------------------------------------------------\n",
      "13 |   |   |   |   |   | O | X |   |   |   | X |   |   |   |   |\n",
      "   --------------------------------------------------------------\n",
      "12 |   |   |   |   | O | X | X | O | O | O | O | X |   |   |   |\n",
      "   --------------------------------------------------------------\n",
      "11 |   |   |   |   | X | O | O | X | O | X |   |   |   |   |   |\n",
      "   --------------------------------------------------------------\n",
      "10 |   | X |   | X |   | X |   | O | X | X | X |   | O |   |   |\n",
      "   --------------------------------------------------------------\n",
      " 9 |   |   | O |   |   |   | O | X | O | O | O | X |   |   |   |\n",
      "   --------------------------------------------------------------\n",
      " 8 |   |   |   | O |   | X | X | X | O | O | X | O |   |   |   |\n",
      "   --------------------------------------------------------------\n",
      " 7 |   |   |   | X | O | O | O | O | X | X | X |   |   | O |   |\n",
      "   --------------------------------------------------------------\n",
      " 6 |   |   |   |   |   |   | X |   |   |   | O |   |   |   |   |\n",
      "   --------------------------------------------------------------\n",
      " 5 |   |   |   |   |   |   |   |   |   |   | X |   |   |   |   |\n",
      "   --------------------------------------------------------------\n",
      " 4 |   |   |   |   |   |   |   |   |   | X |   |   |   |   |   |\n",
      "   --------------------------------------------------------------\n",
      " 3 |   |   |   |   |   |   |   |   |   |   |   |   |   |   |   |\n",
      "   --------------------------------------------------------------\n",
      " 2 |   |   |   |   |   |   |   |   |   |   |   |   |   |   |   |\n",
      "   --------------------------------------------------------------\n",
      " 1 |   |   |   |   |   |   |   |   |   |   |   |   |   |   |   |\n",
      "   --------------------------------------------------------------\n",
      "Move: 13, 7\n"
     ]
    }
   ],
   "source": [
    "# Validate dataset (recommended before training)\n",
    "\n",
    "randomSample = np.random.randint(0, len(Xtrain))\n",
    "renderGamestateSlice(Xtrain[randomSample],0)\n",
    "index = Ytrain[randomSample].argmax(0)\n",
    "print(f\"Move: {index // 15 + 1}, {15 - (index % 15)}\")"
   ]
  },
  {
   "cell_type": "code",
   "execution_count": 8,
   "id": "e17e25b7-d451-4302-9bb6-1ee0700dca94",
   "metadata": {},
   "outputs": [
    {
     "name": "stderr",
     "output_type": "stream",
     "text": [
      "Failed to detect the name of this notebook, you can set it manually with the WANDB_NOTEBOOK_NAME environment variable to enable code saving.\n",
      "\u001b[34m\u001b[1mwandb\u001b[0m: Currently logged in as: \u001b[33malexkurtz\u001b[0m. Use \u001b[1m`wandb login --relogin`\u001b[0m to force relogin\n"
     ]
    },
    {
     "data": {
      "text/html": [
       "Tracking run with wandb version 0.15.11"
      ],
      "text/plain": [
       "<IPython.core.display.HTML object>"
      ]
     },
     "metadata": {},
     "output_type": "display_data"
    },
    {
     "data": {
      "text/html": [
       "Run data is saved locally in <code>/home/linux/Documents/AlphaGomoku/src/wandb/run-20231003_022936-kav0oowh</code>"
      ],
      "text/plain": [
       "<IPython.core.display.HTML object>"
      ]
     },
     "metadata": {},
     "output_type": "display_data"
    },
    {
     "data": {
      "text/html": [
       "Syncing run <strong><a href='https://wandb.ai/alexkurtz/TorchGomoku/runs/kav0oowh' target=\"_blank\">lemon-universe-54</a></strong> to <a href='https://wandb.ai/alexkurtz/TorchGomoku' target=\"_blank\">Weights & Biases</a> (<a href='https://wandb.me/run' target=\"_blank\">docs</a>)<br/>"
      ],
      "text/plain": [
       "<IPython.core.display.HTML object>"
      ]
     },
     "metadata": {},
     "output_type": "display_data"
    },
    {
     "data": {
      "text/html": [
       " View project at <a href='https://wandb.ai/alexkurtz/TorchGomoku' target=\"_blank\">https://wandb.ai/alexkurtz/TorchGomoku</a>"
      ],
      "text/plain": [
       "<IPython.core.display.HTML object>"
      ]
     },
     "metadata": {},
     "output_type": "display_data"
    },
    {
     "data": {
      "text/html": [
       " View run at <a href='https://wandb.ai/alexkurtz/TorchGomoku/runs/kav0oowh' target=\"_blank\">https://wandb.ai/alexkurtz/TorchGomoku/runs/kav0oowh</a>"
      ],
      "text/plain": [
       "<IPython.core.display.HTML object>"
      ]
     },
     "metadata": {},
     "output_type": "display_data"
    }
   ],
   "source": [
    "# Init wandb tracking\n",
    "wandb.init(project='TorchGomoku', config={\"DatasetName\": datasetName, \"BatchSize\": BatchSize, \"LogCount\": LogCount, \"HistoryDepth\" : HistoryDepth, \"Filters\": Filters, \"Layers\" : Layers, \"KernalSize\" : KernalSize}, tags=[\"AlphaGo\"])\n",
    "wandb_logging = True"
   ]
  },
  {
   "cell_type": "code",
   "execution_count": 9,
   "id": "275f7b23-a687-4a3d-9925-0b9624e36123",
   "metadata": {},
   "outputs": [],
   "source": [
    "wandb.run.notes = \"Trying kernal size 5\""
   ]
  },
  {
   "cell_type": "code",
   "execution_count": 10,
   "id": "0c0ae556-5dd0-4d39-96af-852d0f8bd3ab",
   "metadata": {},
   "outputs": [
    {
     "name": "stdout",
     "output_type": "stream",
     "text": [
      "Epoch 1\n",
      "-------------------------------\n",
      "loss: 3.353328  [408320/2041934]\n",
      "loss: 2.193537  [816640/2041934]\n",
      "loss: 2.036681  [1224960/2041934]\n",
      "loss: 1.959708  [1633280/2041934]\n",
      "loss: 1.912390  [2041600/2041934]\n",
      "Test Error: \n",
      " Accuracy: 45.758%, Avg loss: 1.911718 \n",
      "\n",
      "Epoch 2\n",
      "-------------------------------\n",
      "loss: 1.843038  [408320/2041934]\n",
      "loss: 1.820799  [816640/2041934]\n",
      "loss: 1.801038  [1224960/2041934]\n",
      "loss: 1.779718  [1633280/2041934]\n",
      "loss: 1.762047  [2041600/2041934]\n",
      "Test Error: \n",
      " Accuracy: 48.583%, Avg loss: 1.741841 \n",
      "\n",
      "Epoch 3\n",
      "-------------------------------\n",
      "loss: 1.707253  [408320/2041934]\n",
      "loss: 1.704574  [816640/2041934]\n",
      "loss: 1.696415  [1224960/2041934]\n",
      "loss: 1.695013  [1633280/2041934]\n",
      "loss: 1.688943  [2041600/2041934]\n",
      "Test Error: \n",
      " Accuracy: 49.707%, Avg loss: 1.692874 \n",
      "\n",
      "Epoch 4\n",
      "-------------------------------\n",
      "loss: 1.625813  [408320/2041934]\n",
      "loss: 1.634967  [816640/2041934]\n",
      "loss: 1.639361  [1224960/2041934]\n",
      "loss: 1.637901  [1633280/2041934]\n",
      "loss: 1.635742  [2041600/2041934]\n",
      "Test Error: \n",
      " Accuracy: 50.394%, Avg loss: 1.659779 \n",
      "\n",
      "Epoch 5\n",
      "-------------------------------\n",
      "loss: 1.572545  [408320/2041934]\n",
      "loss: 1.585125  [816640/2041934]\n",
      "loss: 1.582976  [1224960/2041934]\n",
      "loss: 1.592027  [1633280/2041934]\n",
      "loss: 1.594933  [2041600/2041934]\n",
      "Test Error: \n",
      " Accuracy: 50.572%, Avg loss: 1.649704 \n",
      "\n",
      "Epoch 6\n",
      "-------------------------------\n",
      "loss: 1.518393  [408320/2041934]\n",
      "loss: 1.537621  [816640/2041934]\n",
      "loss: 1.547266  [1224960/2041934]\n",
      "loss: 1.555780  [1633280/2041934]\n",
      "loss: 1.557273  [2041600/2041934]\n",
      "Test Error: \n",
      " Accuracy: 50.230%, Avg loss: 1.659394 \n",
      "\n",
      "Epoch 7\n",
      "-------------------------------\n",
      "loss: 1.477507  [408320/2041934]\n",
      "loss: 1.493261  [816640/2041934]\n",
      "loss: 1.514052  [1224960/2041934]\n",
      "loss: 1.518232  [1633280/2041934]\n",
      "loss: 1.525336  [2041600/2041934]\n",
      "Test Error: \n",
      " Accuracy: 51.117%, Avg loss: 1.639123 \n",
      "\n",
      "Epoch 8\n",
      "-------------------------------\n",
      "loss: 1.434862  [408320/2041934]\n",
      "loss: 1.458387  [816640/2041934]\n",
      "loss: 1.477730  [1224960/2041934]\n",
      "loss: 1.488358  [1633280/2041934]\n",
      "loss: 1.496018  [2041600/2041934]\n",
      "Test Error: \n",
      " Accuracy: 50.925%, Avg loss: 1.651377 \n",
      "\n",
      "Epoch 9\n",
      "-------------------------------\n",
      "loss: 1.397084  [408320/2041934]\n",
      "loss: 1.422227  [816640/2041934]\n",
      "loss: 1.442506  [1224960/2041934]\n",
      "loss: 1.461056  [1633280/2041934]\n",
      "loss: 1.473740  [2041600/2041934]\n",
      "Test Error: \n",
      " Accuracy: 50.611%, Avg loss: 1.661241 \n",
      "\n",
      "Epoch 10\n",
      "-------------------------------\n",
      "loss: 1.365155  [408320/2041934]\n",
      "loss: 1.392245  [816640/2041934]\n",
      "loss: 1.415087  [1224960/2041934]\n",
      "loss: 1.430262  [1633280/2041934]\n",
      "loss: 1.449651  [2041600/2041934]\n",
      "Test Error: \n",
      " Accuracy: 51.119%, Avg loss: 1.658253 \n",
      "\n",
      "Epoch 11\n",
      "-------------------------------\n",
      "loss: 1.332642  [408320/2041934]\n",
      "loss: 1.362840  [816640/2041934]\n",
      "loss: 1.392698  [1224960/2041934]\n",
      "loss: 1.408149  [1633280/2041934]\n",
      "loss: 1.427870  [2041600/2041934]\n",
      "Test Error: \n",
      " Accuracy: 51.045%, Avg loss: 1.677203 \n",
      "\n",
      "Epoch 12\n",
      "-------------------------------\n",
      "loss: 1.300189  [408320/2041934]\n",
      "loss: 1.338454  [816640/2041934]\n",
      "loss: 1.371304  [1224960/2041934]\n",
      "loss: 1.387875  [1633280/2041934]\n",
      "loss: 1.407348  [2041600/2041934]\n",
      "Test Error: \n",
      " Accuracy: 50.638%, Avg loss: 1.684502 \n",
      "\n",
      "Epoch 13\n",
      "-------------------------------\n",
      "loss: 1.280295  [408320/2041934]\n",
      "loss: 1.316507  [816640/2041934]\n",
      "loss: 1.347295  [1224960/2041934]\n",
      "loss: 1.368917  [1633280/2041934]\n",
      "loss: 1.388787  [2041600/2041934]\n",
      "Test Error: \n",
      " Accuracy: 50.927%, Avg loss: 1.680056 \n",
      "\n",
      "Epoch 14\n",
      "-------------------------------\n",
      "loss: 1.253729  [408320/2041934]\n",
      "loss: 1.295372  [816640/2041934]\n",
      "loss: 1.331472  [1224960/2041934]\n",
      "loss: 1.356789  [1633280/2041934]\n",
      "loss: 1.375480  [2041600/2041934]\n",
      "Test Error: \n",
      " Accuracy: 50.525%, Avg loss: 1.706982 \n",
      "\n",
      "Epoch 15\n",
      "-------------------------------\n",
      "loss: 1.236056  [408320/2041934]\n",
      "loss: 1.276904  [816640/2041934]\n",
      "loss: 1.314387  [1224960/2041934]\n",
      "loss: 1.342078  [1633280/2041934]\n",
      "loss: 1.363838  [2041600/2041934]\n",
      "Test Error: \n",
      " Accuracy: 50.195%, Avg loss: 1.727956 \n",
      "\n",
      "Done!\n"
     ]
    }
   ],
   "source": [
    "# Start training for specified epochs\n",
    "\n",
    "epochs = 15\n",
    "checkpoints = []\n",
    "for epoch in range(epochs):\n",
    "    print(f\"Epoch {epoch+1}\\n-------------------------------\")\n",
    "    train(train_loader, model, loss_fn, optimizer, epoch, logcount=LogCount, wandb_log=wandb_logging)\n",
    "    test(test_loader, model, loss_fn, epoch, wandb_log=wandb_logging)\n",
    "    checkpoints.append(model.state_dict())\n",
    "print(\"Done!\")"
   ]
  },
  {
   "cell_type": "code",
   "execution_count": 11,
   "id": "72c60908-b520-4a74-84d5-78eb7de3a818",
   "metadata": {},
   "outputs": [
    {
     "data": {
      "text/html": [
       "Waiting for W&B process to finish... <strong style=\"color:green\">(success).</strong>"
      ],
      "text/plain": [
       "<IPython.core.display.HTML object>"
      ]
     },
     "metadata": {},
     "output_type": "display_data"
    },
    {
     "name": "stderr",
     "output_type": "stream",
     "text": [
      "wandb: WARNING Source type is set to 'repo' but some required information is missing from the environment. A job will not be created from this run. See https://docs.wandb.ai/guides/launch/create-job\n"
     ]
    },
    {
     "data": {
      "text/html": [
       "<style>\n",
       "    table.wandb td:nth-child(1) { padding: 0 10px; text-align: left ; width: auto;} td:nth-child(2) {text-align: left ; width: 100%}\n",
       "    .wandb-row { display: flex; flex-direction: row; flex-wrap: wrap; justify-content: flex-start; width: 100% }\n",
       "    .wandb-col { display: flex; flex-direction: column; flex-basis: 100%; flex: 1; padding: 10px; }\n",
       "    </style>\n",
       "<div class=\"wandb-row\"><div class=\"wandb-col\"><h3>Run history:</h3><br/><table class=\"wandb\"><tr><td>epoch</td><td>▁▁▁▁▁▁▂▂▃▃▃▃▃▃▃▃▄▄▄▅▅▅▅▅▅▅▅▆▆▇▇▇▇▇▇▇▇███</td></tr><tr><td>test_acc</td><td>▁▅▆▇▇▇██▇██▇█▇▇</td></tr><tr><td>test_loss</td><td>█▄▂▂▁▂▁▁▂▁▂▂▂▃▃</td></tr><tr><td>train_loss</td><td>█▄▃▃▃▃▃▃▂▂▂▂▂▂▂▂▂▂▂▂▂▂▂▂▁▂▂▁▂▁▁▂▁▁▂▁▁▁▁▁</td></tr></table><br/></div><div class=\"wandb-col\"><h3>Run summary:</h3><br/><table class=\"wandb\"><tr><td>epoch</td><td>14</td></tr><tr><td>test_acc</td><td>0.50195</td></tr><tr><td>test_loss</td><td>1.72796</td></tr><tr><td>train_loss</td><td>1.36384</td></tr></table><br/></div></div>"
      ],
      "text/plain": [
       "<IPython.core.display.HTML object>"
      ]
     },
     "metadata": {},
     "output_type": "display_data"
    },
    {
     "data": {
      "text/html": [
       " View run <strong style=\"color:#cdcd00\">lemon-universe-54</strong> at: <a href='https://wandb.ai/alexkurtz/TorchGomoku/runs/kav0oowh' target=\"_blank\">https://wandb.ai/alexkurtz/TorchGomoku/runs/kav0oowh</a><br/>Synced 6 W&B file(s), 0 media file(s), 0 artifact file(s) and 0 other file(s)"
      ],
      "text/plain": [
       "<IPython.core.display.HTML object>"
      ]
     },
     "metadata": {},
     "output_type": "display_data"
    },
    {
     "data": {
      "text/html": [
       "Find logs at: <code>./wandb/run-20231003_022936-kav0oowh/logs</code>"
      ],
      "text/plain": [
       "<IPython.core.display.HTML object>"
      ]
     },
     "metadata": {},
     "output_type": "display_data"
    }
   ],
   "source": [
    "wandb.finish()"
   ]
  },
  {
   "cell_type": "code",
   "execution_count": 8,
   "id": "98ad3223",
   "metadata": {},
   "outputs": [],
   "source": [
    "torch.save(model.state_dict(), \"Model/Models/test1noHistory.pt\")"
   ]
  },
  {
   "cell_type": "code",
   "execution_count": 12,
   "id": "9fd8ffb3-addf-4ad4-89d5-0e68ebabc65a",
   "metadata": {},
   "outputs": [],
   "source": [
    "modelNamePath = \"../Models/HumanModels/128f20l5kAllBut715e\"\n",
    "for i, checkpoint in enumerate(checkpoints):\n",
    "    torch.save(checkpoint, f'{modelNamePath}/{i}.pt')"
   ]
  }
 ],
 "metadata": {
  "kernelspec": {
   "display_name": "Python 3 (ipykernel)",
   "language": "python",
   "name": "python3"
  },
  "language_info": {
   "codemirror_mode": {
    "name": "ipython",
    "version": 3
   },
   "file_extension": ".py",
   "mimetype": "text/x-python",
   "name": "python",
   "nbconvert_exporter": "python",
   "pygments_lexer": "ipython3",
   "version": "3.10.13"
  }
 },
 "nbformat": 4,
 "nbformat_minor": 5
}
