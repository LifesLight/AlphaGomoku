{
 "cells": [
  {
   "cell_type": "code",
   "execution_count": 1,
   "id": "43a4f0eb-f778-4641-8cc2-5fef9903c840",
   "metadata": {},
   "outputs": [
    {
     "name": "stdout",
     "output_type": "stream",
     "text": [
      "Using cuda device\n"
     ]
    }
   ],
   "source": [
    "import torch\n",
    "import wandb\n",
    "import numpy as np\n",
    "import torch.nn as nn\n",
    "import torch.optim as optim\n",
    "from torch.utils.data import Dataset, DataLoader, TensorDataset\n",
    "import torch.nn.functional as F\n",
    "from torchvision import transforms\n",
    "\n",
    "device = (\n",
    "    \"cuda\"\n",
    "    if torch.cuda.is_available()\n",
    "    else \"mps\"\n",
    "    if torch.backends.mps.is_available()\n",
    "    else \"cpu\"\n",
    ")\n",
    "print(f\"Using {device} device\")"
   ]
  },
  {
   "cell_type": "code",
   "execution_count": 2,
   "id": "1b38eade-0b79-4802-b249-c08ea962fb9e",
   "metadata": {},
   "outputs": [],
   "source": [
    "def train(dataloader, model, loss_fn, optimizer, epoch, logcount=5, wandb_log=False):\n",
    "    size = len(dataloader.dataset)\n",
    "    loginterval = len(dataloader) // logcount\n",
    "    average_loss = 0.0\n",
    "\n",
    "    model.train()\n",
    "    for batch, (X, y) in enumerate(dataloader):\n",
    "        X, y = X.to(device), y.to(device)\n",
    "\n",
    "        # Compute prediction error\n",
    "        pred = model(X)\n",
    "        loss = loss_fn(pred, y)\n",
    "        average_loss += loss.detach().item()\n",
    "        \n",
    "        # Backpropagation\n",
    "        loss.backward()\n",
    "        optimizer.step()\n",
    "        optimizer.zero_grad()\n",
    "\n",
    "        if (batch % loginterval == 0) and (batch > 0):\n",
    "            log_loss = average_loss / loginterval\n",
    "            average_loss = 0\n",
    "            current = batch * len(X)\n",
    "            print(f\"loss: {log_loss:>8f}  [{current:>5d}/{size:>5d}]\")\n",
    "            if wandb_log:\n",
    "                wandb.log({\"epoch\": epoch, \"train_loss\": log_loss})\n",
    "\n",
    "def test(dataloader, model, loss_fn, epoch, wandb_log=False):\n",
    "    size = len(dataloader.dataset)\n",
    "    num_batches = len(dataloader)\n",
    "    model.eval()\n",
    "    test_loss, correct = 0, 0\n",
    "    with torch.no_grad():\n",
    "        for X, y in dataloader:\n",
    "            X, y = X.to(device), y.to(device)\n",
    "            pred = model(X)\n",
    "            test_loss += loss_fn(pred, y).detach().item()\n",
    "            correct += (pred.argmax(1) == y.argmax(1)).type(torch.float).sum().item()\n",
    "    test_loss /= num_batches\n",
    "    correct /= size\n",
    "    if wandb_log:\n",
    "        wandb.log({\"epoch\" : epoch, \"test_acc\": correct, \"test_loss\": test_loss})\n",
    "    print(f\"Test Error: \\n Accuracy: {(100*correct):>0.3f}%, Avg loss: {test_loss:>8f} \\n\")\n",
    "\n",
    "def parameterCount(model):\n",
    "    pp=0\n",
    "    for p in list(model.parameters()):\n",
    "        nn=1\n",
    "        for s in list(p.size()):\n",
    "            nn = nn*s\n",
    "        pp += nn\n",
    "    return pp"
   ]
  },
  {
   "cell_type": "code",
   "execution_count": 4,
   "id": "af845671-b2bf-4e1a-8951-9c74e7df81f9",
   "metadata": {},
   "outputs": [],
   "source": [
    "class ResidualLayer(nn.Module):\n",
    "    def __init__(self, filters, kernal_size=3):\n",
    "        super().__init__()\n",
    "\n",
    "        self.conv2d_sequential = nn.Sequential(                \n",
    "            nn.Conv2d(filters, filters, kernal_size, padding=(kernal_size - 1) // 2),\n",
    "            nn.BatchNorm2d(filters),\n",
    "            nn.ReLU(),\n",
    "            nn.Conv2d(filters, filters, kernal_size, padding=(kernal_size - 1) // 2),\n",
    "            nn.BatchNorm2d(filters),\n",
    "        )\n",
    "\n",
    "        self.relu = nn.ReLU()\n",
    "\n",
    "    def forward(self, x):\n",
    "        residual = x\n",
    "        x = self.conv2d_sequential(x)\n",
    "        x += residual\n",
    "        x = self.relu(x)\n",
    "\n",
    "        return x\n",
    "    \n",
    "class ConvolutionLayer(nn.Module):\n",
    "    def __init__(self, infilters, outfilters, kernal_size=3):\n",
    "        super().__init__()\n",
    "        \n",
    "        self.conv2d_sequential = nn.Sequential(                \n",
    "            nn.Conv2d(infilters, outfilters, kernal_size, padding=(kernal_size - 1) // 2),\n",
    "            nn.BatchNorm2d(outfilters),\n",
    "            nn.ReLU(),\n",
    "        )\n",
    "\n",
    "    def forward(self, x):\n",
    "        x = self.conv2d_sequential(x)\n",
    "        return x\n",
    "    \n",
    "class PolicyHead(nn.Module):\n",
    "    def __init__(self, filters):\n",
    "        super().__init__()\n",
    "        self.filters = filters\n",
    "\n",
    "        self.head = nn.Sequential(\n",
    "            nn.Conv2d(self.filters, 1, 1),\n",
    "            nn.Flatten(),\n",
    "            nn.BatchNorm1d(225),\n",
    "            nn.ReLU(),\n",
    "            nn.Linear(225, 225)\n",
    "        )\n",
    "\n",
    "    def forward(self, x):\n",
    "        x = self.head(x)\n",
    "        return x\n",
    "\n",
    "class NeuralNetwork(nn.Module):\n",
    "    def __init__(self, filters, feature_dimensions, residual_layers=5, kernal_size=3):\n",
    "        super().__init__()\n",
    "\n",
    "        self.conv_layer = ConvolutionLayer(feature_dimensions, filters, kernal_size=kernal_size)\n",
    "        self.residual_layers = nn.ModuleList([ResidualLayer(filters, kernal_size=kernal_size) for _ in range(residual_layers)])\n",
    "        self.policy_head = PolicyHead(filters)\n",
    "\n",
    "    def forward(self, x):      \n",
    "        x = self.conv_layer(x)\n",
    "        for layer in self.residual_layers:\n",
    "            x = layer(x)\n",
    "        x = self.policy_head(x)\n",
    "        \n",
    "        return x"
   ]
  },
  {
   "cell_type": "code",
   "execution_count": 5,
   "id": "10136069-433c-4630-a099-b2a7d758e4c2",
   "metadata": {},
   "outputs": [
    {
     "name": "stdout",
     "output_type": "stream",
     "text": [
      "11896293\n"
     ]
    }
   ],
   "source": [
    "Filters = 128\n",
    "Layers = 40\n",
    "HistoryDepth = 7\n",
    "BatchSize = 128\n",
    "LogCount = 5\n",
    "KernalSize = 3\n",
    "datasetPath = \"Dataset/TrainingDatasets/AllRulesetsBut6\"\n",
    "\n",
    "model = NeuralNetwork(Filters, HistoryDepth * 2 + 1, Layers, kernal_size=KernalSize).to(device)\n",
    "model = torch.compile(model)\n",
    "\n",
    "wandb_logging = False\n",
    "datasetName = datasetPath.split(\"/\")[-1]\n",
    "loss_fn = nn.CrossEntropyLoss()\n",
    "optimizer = torch.optim.AdamW(model.parameters())\n",
    "\n",
    "paramCount = sum(p.numel() for p in model.parameters())\n",
    "print(paramCount)"
   ]
  },
  {
   "cell_type": "code",
   "execution_count": 6,
   "id": "cfec3f1f",
   "metadata": {},
   "outputs": [
    {
     "data": {
      "text/plain": [
       "torch.Size([2041934, 15, 15, 15])"
      ]
     },
     "execution_count": 6,
     "metadata": {},
     "output_type": "execute_result"
    }
   ],
   "source": [
    "historyDimSize = HistoryDepth * 2 + 1\n",
    "Xtrain = torch.from_numpy(np.fromfile(f'{datasetPath}/XTrain.bin', dtype=bool).astype(np.float32).reshape(-1, historyDimSize, 15, 15))\n",
    "Ytrain = torch.from_numpy(np.fromfile(f'{datasetPath}/YTrain.bin', dtype=bool).astype(np.float32).reshape(-1, 225))\n",
    "Xtest = torch.from_numpy(np.fromfile(f'{datasetPath}/XTest.bin', dtype=bool).astype(np.float32).reshape(-1, historyDimSize, 15, 15))\n",
    "Ytest = torch.from_numpy(np.fromfile(f'{datasetPath}/YTest.bin', dtype=bool).astype(np.float32).reshape(-1, 225))\n",
    "\n",
    "train_dataset = TensorDataset(Xtrain, Ytrain)\n",
    "train_loader = DataLoader(train_dataset, batch_size=BatchSize, shuffle=True)\n",
    "test_dataset = TensorDataset(Xtest, Ytest)\n",
    "test_loader = DataLoader(test_dataset, batch_size=BatchSize, shuffle=False)\n",
    "\n",
    "def renderGamestateSlice(gamestate, depth):\n",
    "    blackStones = gamestate[HistoryDepth * 2 - depth][:][:]\n",
    "    whiteStones = gamestate[HistoryDepth - depth][:][:]\n",
    "    print(\"     1   2   3   4   5   6   7   8   9   10  11  12  13  14  15\")\n",
    "    print(\"   --------------------------------------------------------------\")\n",
    "    for y in range(15):\n",
    "        print(f'{15 - y:2} |', end=\"\")\n",
    "        for x in range(15):\n",
    "            if blackStones[x][y] == 0 and whiteStones[x][y] == 0:\n",
    "                print(\"   \", end=\"\")\n",
    "            elif blackStones[x][y] == 1:\n",
    "                print(\" X \", end=\"\")\n",
    "            elif whiteStones[x][y] == 1:\n",
    "                print(\" O \", end=\"\")\n",
    "            print(\"|\", end=\"\")\n",
    "        print(\"\\n   --------------------------------------------------------------\")\n",
    "\n",
    "Xtrain.shape"
   ]
  },
  {
   "cell_type": "code",
   "execution_count": 9,
   "id": "98d8ff88",
   "metadata": {},
   "outputs": [
    {
     "name": "stdout",
     "output_type": "stream",
     "text": [
      "     1   2   3   4   5   6   7   8   9   10  11  12  13  14  15\n",
      "   --------------------------------------------------------------\n",
      "15 |   |   |   |   |   |   |   |   |   |   |   |   |   |   |   |\n",
      "   --------------------------------------------------------------\n",
      "14 |   |   |   |   |   |   |   |   |   |   |   |   |   |   |   |\n",
      "   --------------------------------------------------------------\n",
      "13 |   |   |   |   |   |   |   |   |   |   |   |   |   |   |   |\n",
      "   --------------------------------------------------------------\n",
      "12 |   |   |   |   |   |   |   |   |   |   |   |   |   |   |   |\n",
      "   --------------------------------------------------------------\n",
      "11 |   |   |   |   |   |   |   |   |   |   |   |   |   |   |   |\n",
      "   --------------------------------------------------------------\n",
      "10 |   |   |   |   |   |   |   |   |   |   |   |   |   |   |   |\n",
      "   --------------------------------------------------------------\n",
      " 9 |   |   |   |   |   |   |   |   | O | X | X |   |   |   |   |\n",
      "   --------------------------------------------------------------\n",
      " 8 |   |   |   |   |   |   |   | X | O | O | O |   | X |   |   |\n",
      "   --------------------------------------------------------------\n",
      " 7 |   |   |   |   |   |   |   |   | X | X | X | O | O |   |   |\n",
      "   --------------------------------------------------------------\n",
      " 6 |   |   |   |   |   |   |   | X | X | O | O | O | X |   |   |\n",
      "   --------------------------------------------------------------\n",
      " 5 |   |   |   |   |   |   |   |   |   |   | X | O |   |   |   |\n",
      "   --------------------------------------------------------------\n",
      " 4 |   |   |   |   |   |   |   |   |   |   |   |   |   |   |   |\n",
      "   --------------------------------------------------------------\n",
      " 3 |   |   |   |   |   |   |   |   |   |   |   |   |   |   |   |\n",
      "   --------------------------------------------------------------\n",
      " 2 |   |   |   |   |   |   |   |   |   |   |   |   |   |   |   |\n",
      "   --------------------------------------------------------------\n",
      " 1 |   |   |   |   |   |   |   |   |   |   |   |   |   |   |   |\n",
      "   --------------------------------------------------------------\n",
      "Move: 6, 6\n"
     ]
    }
   ],
   "source": [
    "randomSample = np.random.randint(0, len(Xtrain))\n",
    "renderGamestateSlice(Xtrain[randomSample],0)\n",
    "index = Ytrain[randomSample].argmax(0)\n",
    "print(f\"Move: {index // 15 + 1}, {15 - (index % 15)}\")"
   ]
  },
  {
   "cell_type": "code",
   "execution_count": 7,
   "id": "e17e25b7-d451-4302-9bb6-1ee0700dca94",
   "metadata": {},
   "outputs": [
    {
     "name": "stderr",
     "output_type": "stream",
     "text": [
      "Failed to detect the name of this notebook, you can set it manually with the WANDB_NOTEBOOK_NAME environment variable to enable code saving.\n",
      "\u001b[34m\u001b[1mwandb\u001b[0m: Currently logged in as: \u001b[33malexkurtz\u001b[0m. Use \u001b[1m`wandb login --relogin`\u001b[0m to force relogin\n"
     ]
    },
    {
     "data": {
      "text/html": [
       "Tracking run with wandb version 0.15.11"
      ],
      "text/plain": [
       "<IPython.core.display.HTML object>"
      ]
     },
     "metadata": {},
     "output_type": "display_data"
    },
    {
     "data": {
      "text/html": [
       "Run data is saved locally in <code>/media/linux/USB/Coding/MachineLearning/AlphaGomoku/wandb/run-20230930_233839-3colywtr</code>"
      ],
      "text/plain": [
       "<IPython.core.display.HTML object>"
      ]
     },
     "metadata": {},
     "output_type": "display_data"
    },
    {
     "data": {
      "text/html": [
       "Syncing run <strong><a href='https://wandb.ai/alexkurtz/TorchGomoku/runs/3colywtr' target=\"_blank\">rural-rain-50</a></strong> to <a href='https://wandb.ai/alexkurtz/TorchGomoku' target=\"_blank\">Weights & Biases</a> (<a href='https://wandb.me/run' target=\"_blank\">docs</a>)<br/>"
      ],
      "text/plain": [
       "<IPython.core.display.HTML object>"
      ]
     },
     "metadata": {},
     "output_type": "display_data"
    },
    {
     "data": {
      "text/html": [
       " View project at <a href='https://wandb.ai/alexkurtz/TorchGomoku' target=\"_blank\">https://wandb.ai/alexkurtz/TorchGomoku</a>"
      ],
      "text/plain": [
       "<IPython.core.display.HTML object>"
      ]
     },
     "metadata": {},
     "output_type": "display_data"
    },
    {
     "data": {
      "text/html": [
       " View run at <a href='https://wandb.ai/alexkurtz/TorchGomoku/runs/3colywtr' target=\"_blank\">https://wandb.ai/alexkurtz/TorchGomoku/runs/3colywtr</a>"
      ],
      "text/plain": [
       "<IPython.core.display.HTML object>"
      ]
     },
     "metadata": {},
     "output_type": "display_data"
    }
   ],
   "source": [
    "wandb.init(project='TorchGomoku', config={\"DatasetName\": datasetName, \"BatchSize\": BatchSize, \"LogCount\": LogCount, \"HistoryDepth\" : HistoryDepth, \"Filters\": Filters, \"Layers\" : Layers, \"KernalSize\" : KernalSize}, tags=[\"AlphaGo\"])\n",
    "wandb_logging = True"
   ]
  },
  {
   "cell_type": "code",
   "execution_count": 8,
   "id": "275f7b23-a687-4a3d-9925-0b9624e36123",
   "metadata": {},
   "outputs": [],
   "source": [
    "wandb.run.notes = \"Fixed Dataset?\""
   ]
  },
  {
   "cell_type": "code",
   "execution_count": 9,
   "id": "0c0ae556-5dd0-4d39-96af-852d0f8bd3ab",
   "metadata": {},
   "outputs": [
    {
     "name": "stdout",
     "output_type": "stream",
     "text": [
      "Epoch 1\n",
      "-------------------------------\n",
      "loss: 3.285393  [408320/2041934]\n",
      "loss: 2.148778  [816640/2041934]\n",
      "loss: 2.010959  [1224960/2041934]\n",
      "loss: 1.940182  [1633280/2041934]\n",
      "loss: 1.892871  [2041600/2041934]\n",
      "Test Error: \n",
      " Accuracy: 46.526%, Avg loss: 1.859553 \n",
      "\n",
      "Epoch 2\n",
      "-------------------------------\n",
      "loss: 1.830147  [408320/2041934]\n",
      "loss: 1.807250  [816640/2041934]\n",
      "loss: 1.789495  [1224960/2041934]\n",
      "loss: 1.770943  [1633280/2041934]\n",
      "loss: 1.750782  [2041600/2041934]\n",
      "Test Error: \n",
      " Accuracy: 49.169%, Avg loss: 1.727804 \n",
      "\n",
      "Epoch 3\n",
      "-------------------------------\n",
      "loss: 1.708607  [408320/2041934]\n",
      "loss: 1.704751  [816640/2041934]\n",
      "loss: 1.696534  [1224960/2041934]\n",
      "loss: 1.689535  [1633280/2041934]\n",
      "loss: 1.683784  [2041600/2041934]\n",
      "Test Error: \n",
      " Accuracy: 50.181%, Avg loss: 1.669666 \n",
      "\n",
      "Epoch 4\n",
      "-------------------------------\n",
      "loss: 1.642857  [408320/2041934]\n",
      "loss: 1.642844  [816640/2041934]\n",
      "loss: 1.636557  [1224960/2041934]\n",
      "loss: 1.637353  [1633280/2041934]\n",
      "loss: 1.634531  [2041600/2041934]\n",
      "Test Error: \n",
      " Accuracy: 51.000%, Avg loss: 1.634637 \n",
      "\n",
      "Epoch 5\n",
      "-------------------------------\n",
      "loss: 1.589397  [408320/2041934]\n",
      "loss: 1.595131  [816640/2041934]\n",
      "loss: 1.598050  [1224960/2041934]\n",
      "loss: 1.598643  [1633280/2041934]\n",
      "loss: 1.600287  [2041600/2041934]\n",
      "Test Error: \n",
      " Accuracy: 51.313%, Avg loss: 1.621673 \n",
      "\n",
      "Epoch 6\n",
      "-------------------------------\n",
      "loss: 1.549706  [408320/2041934]\n",
      "loss: 1.559640  [816640/2041934]\n",
      "loss: 1.560377  [1224960/2041934]\n",
      "loss: 1.572574  [1633280/2041934]\n",
      "loss: 1.572217  [2041600/2041934]\n",
      "Test Error: \n",
      " Accuracy: 51.842%, Avg loss: 1.604064 \n",
      "\n",
      "Epoch 7\n",
      "-------------------------------\n",
      "loss: 1.518086  [408320/2041934]\n",
      "loss: 1.528292  [816640/2041934]\n",
      "loss: 1.539994  [1224960/2041934]\n",
      "loss: 1.541732  [1633280/2041934]\n",
      "loss: 1.547417  [2041600/2041934]\n",
      "Test Error: \n",
      " Accuracy: 51.925%, Avg loss: 1.606253 \n",
      "\n",
      "Epoch 8\n",
      "-------------------------------\n",
      "loss: 1.489405  [408320/2041934]\n",
      "loss: 1.507546  [816640/2041934]\n",
      "loss: 1.510320  [1224960/2041934]\n",
      "loss: 1.524356  [1633280/2041934]\n",
      "loss: 1.524618  [2041600/2041934]\n",
      "Test Error: \n",
      " Accuracy: 52.092%, Avg loss: 1.589249 \n",
      "\n",
      "Epoch 9\n",
      "-------------------------------\n",
      "loss: 1.465683  [408320/2041934]\n",
      "loss: 1.481598  [816640/2041934]\n",
      "loss: 1.493691  [1224960/2041934]\n",
      "loss: 1.506725  [1633280/2041934]\n",
      "loss: 1.507495  [2041600/2041934]\n",
      "Test Error: \n",
      " Accuracy: 52.018%, Avg loss: 1.589688 \n",
      "\n",
      "Epoch 10\n",
      "-------------------------------\n",
      "loss: 1.446287  [408320/2041934]\n",
      "loss: 1.462236  [816640/2041934]\n",
      "loss: 1.479011  [1224960/2041934]\n",
      "loss: 1.487901  [1633280/2041934]\n",
      "loss: 1.492523  [2041600/2041934]\n",
      "Test Error: \n",
      " Accuracy: 52.204%, Avg loss: 1.588137 \n",
      "\n",
      "Epoch 11\n",
      "-------------------------------\n",
      "loss: 1.427453  [408320/2041934]\n",
      "loss: 1.444043  [816640/2041934]\n",
      "loss: 1.462924  [1224960/2041934]\n",
      "loss: 1.471227  [1633280/2041934]\n",
      "loss: 1.480562  [2041600/2041934]\n",
      "Test Error: \n",
      " Accuracy: 52.433%, Avg loss: 1.587645 \n",
      "\n",
      "Epoch 12\n",
      "-------------------------------\n",
      "loss: 1.408767  [408320/2041934]\n",
      "loss: 1.431026  [816640/2041934]\n",
      "loss: 1.446546  [1224960/2041934]\n",
      "loss: 1.457608  [1633280/2041934]\n",
      "loss: 1.471143  [2041600/2041934]\n",
      "Test Error: \n",
      " Accuracy: 52.527%, Avg loss: 1.588588 \n",
      "\n",
      "Epoch 13\n",
      "-------------------------------\n",
      "loss: 1.396249  [408320/2041934]\n",
      "loss: 1.419452  [816640/2041934]\n",
      "loss: 1.434337  [1224960/2041934]\n",
      "loss: 1.444334  [1633280/2041934]\n",
      "loss: 1.455844  [2041600/2041934]\n",
      "Test Error: \n",
      " Accuracy: 51.841%, Avg loss: 1.597838 \n",
      "\n",
      "Epoch 14\n",
      "-------------------------------\n",
      "loss: 1.382984  [408320/2041934]\n",
      "loss: 1.405615  [816640/2041934]\n",
      "loss: 1.425533  [1224960/2041934]\n",
      "loss: 1.435143  [1633280/2041934]\n",
      "loss: 1.444367  [2041600/2041934]\n",
      "Test Error: \n",
      " Accuracy: 52.149%, Avg loss: 1.596648 \n",
      "\n",
      "Epoch 15\n",
      "-------------------------------\n",
      "loss: 1.364071  [408320/2041934]\n",
      "loss: 1.392953  [816640/2041934]\n",
      "loss: 1.412492  [1224960/2041934]\n",
      "loss: 1.429260  [1633280/2041934]\n",
      "loss: 1.442854  [2041600/2041934]\n",
      "Test Error: \n",
      " Accuracy: 52.110%, Avg loss: 1.595364 \n",
      "\n",
      "Done!\n"
     ]
    }
   ],
   "source": [
    "epochs = 15\n",
    "checkpoints = []\n",
    "for epoch in range(epochs):\n",
    "    print(f\"Epoch {epoch+1}\\n-------------------------------\")\n",
    "    train(train_loader, model, loss_fn, optimizer, epoch, logcount=LogCount, wandb_log=wandb_logging)\n",
    "    test(test_loader, model, loss_fn, epoch, wandb_log=wandb_logging)\n",
    "    checkpoints.append(model.state_dict())\n",
    "print(\"Done!\")"
   ]
  },
  {
   "cell_type": "code",
   "execution_count": 10,
   "id": "72c60908-b520-4a74-84d5-78eb7de3a818",
   "metadata": {},
   "outputs": [
    {
     "data": {
      "text/html": [
       "Waiting for W&B process to finish... <strong style=\"color:green\">(success).</strong>"
      ],
      "text/plain": [
       "<IPython.core.display.HTML object>"
      ]
     },
     "metadata": {},
     "output_type": "display_data"
    },
    {
     "data": {
      "text/html": [
       "<style>\n",
       "    table.wandb td:nth-child(1) { padding: 0 10px; text-align: left ; width: auto;} td:nth-child(2) {text-align: left ; width: 100%}\n",
       "    .wandb-row { display: flex; flex-direction: row; flex-wrap: wrap; justify-content: flex-start; width: 100% }\n",
       "    .wandb-col { display: flex; flex-direction: column; flex-basis: 100%; flex: 1; padding: 10px; }\n",
       "    </style>\n",
       "<div class=\"wandb-row\"><div class=\"wandb-col\"><h3>Run history:</h3><br/><table class=\"wandb\"><tr><td>epoch</td><td>▁▁▁▁▁▁▂▂▃▃▃▃▃▃▃▃▄▄▄▅▅▅▅▅▅▅▅▆▆▇▇▇▇▇▇▇▇███</td></tr><tr><td>test_acc</td><td>▁▄▅▆▇▇▇▇▇███▇██</td></tr><tr><td>test_loss</td><td>█▅▃▂▂▁▁▁▁▁▁▁▁▁▁</td></tr><tr><td>train_loss</td><td>█▄▃▃▃▂▂▂▂▂▂▂▂▂▂▂▂▂▂▂▂▂▁▂▁▁▁▁▁▁▁▁▁▁▁▁▁▁▁▁</td></tr></table><br/></div><div class=\"wandb-col\"><h3>Run summary:</h3><br/><table class=\"wandb\"><tr><td>epoch</td><td>14</td></tr><tr><td>test_acc</td><td>0.5211</td></tr><tr><td>test_loss</td><td>1.59536</td></tr><tr><td>train_loss</td><td>1.44285</td></tr></table><br/></div></div>"
      ],
      "text/plain": [
       "<IPython.core.display.HTML object>"
      ]
     },
     "metadata": {},
     "output_type": "display_data"
    },
    {
     "data": {
      "text/html": [
       " View run <strong style=\"color:#cdcd00\">rural-rain-50</strong> at: <a href='https://wandb.ai/alexkurtz/TorchGomoku/runs/3colywtr' target=\"_blank\">https://wandb.ai/alexkurtz/TorchGomoku/runs/3colywtr</a><br/>Synced 6 W&B file(s), 0 media file(s), 0 artifact file(s) and 0 other file(s)"
      ],
      "text/plain": [
       "<IPython.core.display.HTML object>"
      ]
     },
     "metadata": {},
     "output_type": "display_data"
    },
    {
     "data": {
      "text/html": [
       "Find logs at: <code>./wandb/run-20230930_233839-3colywtr/logs</code>"
      ],
      "text/plain": [
       "<IPython.core.display.HTML object>"
      ]
     },
     "metadata": {},
     "output_type": "display_data"
    }
   ],
   "source": [
    "wandb.finish()"
   ]
  },
  {
   "cell_type": "code",
   "execution_count": 8,
   "id": "98ad3223",
   "metadata": {},
   "outputs": [],
   "source": [
    "torch.save(model.state_dict(), \"Model/Models/test1noHistory.pt\")"
   ]
  },
  {
   "cell_type": "code",
   "execution_count": 11,
   "id": "9fd8ffb3-addf-4ad4-89d5-0e68ebabc65a",
   "metadata": {},
   "outputs": [],
   "source": [
    "modelNamePath = \"128f_40l_AllRulesetsBut6_15e_fixed\"\n",
    "for i, checkpoint in enumerate(checkpoints):\n",
    "    torch.save(checkpoint, f'Model/Models/{modelNamePath}/{i}.pt')"
   ]
  }
 ],
 "metadata": {
  "kernelspec": {
   "display_name": "Python 3 (ipykernel)",
   "language": "python",
   "name": "python3"
  },
  "language_info": {
   "codemirror_mode": {
    "name": "ipython",
    "version": 3
   },
   "file_extension": ".py",
   "mimetype": "text/x-python",
   "name": "python",
   "nbconvert_exporter": "python",
   "pygments_lexer": "ipython3",
   "version": "3.10.13"
  }
 },
 "nbformat": 4,
 "nbformat_minor": 5
}
