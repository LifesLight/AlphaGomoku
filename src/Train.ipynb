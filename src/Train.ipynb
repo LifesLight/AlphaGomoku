{
 "cells": [
  {
   "cell_type": "code",
   "execution_count": 1,
   "id": "43a4f0eb-f778-4641-8cc2-5fef9903c840",
   "metadata": {},
   "outputs": [
    {
     "name": "stdout",
     "output_type": "stream",
     "text": [
      "Using cuda device\n"
     ]
    }
   ],
   "source": [
    "import torch\n",
    "import wandb\n",
    "import numpy as np\n",
    "import torch.nn as nn\n",
    "import torch.optim as optim\n",
    "from torch.utils.data import Dataset, DataLoader, TensorDataset\n",
    "import torch.nn.functional as F\n",
    "from torchvision import transforms\n",
    "\n",
    "device = (\n",
    "    \"cuda\"\n",
    "    if torch.cuda.is_available()\n",
    "    else \"mps\"\n",
    "    if torch.backends.mps.is_available()\n",
    "    else \"cpu\"\n",
    ")\n",
    "print(f\"Using {device} device\")"
   ]
  },
  {
   "cell_type": "code",
   "execution_count": 16,
   "id": "1b38eade-0b79-4802-b249-c08ea962fb9e",
   "metadata": {},
   "outputs": [],
   "source": [
    "# Basic Function definitions\n",
    "\n",
    "def train(dataloader, model, loss_fn, optimizer, epoch, logcount=5, wandb_log=False):\n",
    "    size = len(dataloader.dataset)\n",
    "    loginterval = len(dataloader) // logcount\n",
    "    average_loss = 0.0\n",
    "\n",
    "    model.train()\n",
    "    for batch, (X, y) in enumerate(dataloader):\n",
    "        X, y = X.to(device), y.to(device)\n",
    "\n",
    "        # Compute prediction error\n",
    "        pred = model(X)\n",
    "        loss = loss_fn(pred, y)\n",
    "        average_loss += loss.detach().item()\n",
    "        \n",
    "        # Backpropagation\n",
    "        loss.backward()\n",
    "        optimizer.step()\n",
    "        optimizer.zero_grad()\n",
    "\n",
    "        if (batch % loginterval == 0) and (batch > 0):\n",
    "            log_loss = average_loss / loginterval\n",
    "            average_loss = 0\n",
    "            current = batch * len(X)\n",
    "            print(f\"loss: {log_loss:>8f}  [{current:>5d}/{size:>5d}]\")\n",
    "            if wandb_log:\n",
    "                wandb.log({\"epoch\": epoch, \"train_loss\": log_loss})\n",
    "\n",
    "def test(dataloader, model, loss_fn, epoch, wandb_log=False):\n",
    "    size = len(dataloader.dataset)\n",
    "    num_batches = len(dataloader)\n",
    "    model.eval()\n",
    "    test_loss, correct = 0, 0\n",
    "    with torch.no_grad():\n",
    "        for X, y in dataloader:\n",
    "            X, y = X.to(device), y.to(device)\n",
    "            pred = model(X)\n",
    "            test_loss += loss_fn(pred, y).detach().item()\n",
    "            correct += (pred.argmax(1) == y.argmax(1)).type(torch.float).sum().item()\n",
    "    test_loss /= num_batches\n",
    "    correct /= size\n",
    "    if wandb_log:\n",
    "        wandb.log({\"epoch\" : epoch, \"test_acc\": correct, \"test_loss\": test_loss})\n",
    "    print(f\"Test Error: \\n Accuracy: {(100*correct):>0.3f}%, Avg loss: {test_loss:>8f} \\n\")\n",
    "\n",
    "def parameterCount(model):\n",
    "    pp=0\n",
    "    for p in list(model.parameters()):\n",
    "        nn=1\n",
    "        for s in list(p.size()):\n",
    "            nn = nn*s\n",
    "        pp += nn\n",
    "    return pp"
   ]
  },
  {
   "cell_type": "code",
   "execution_count": 3,
   "id": "af845671-b2bf-4e1a-8951-9c74e7df81f9",
   "metadata": {},
   "outputs": [],
   "source": [
    "# The model architecture, change with caution due to possible state loading issues\n",
    "\n",
    "class ResidualLayer(nn.Module):\n",
    "    def __init__(self, filters, kernal_size=3):\n",
    "        super().__init__()\n",
    "\n",
    "        self.conv2d_sequential = nn.Sequential(                \n",
    "            nn.Conv2d(filters, filters, kernal_size, padding=(kernal_size - 1) // 2),\n",
    "            nn.BatchNorm2d(filters),\n",
    "            nn.ReLU(),\n",
    "            nn.Conv2d(filters, filters, kernal_size, padding=(kernal_size - 1) // 2),\n",
    "            nn.BatchNorm2d(filters),\n",
    "        )\n",
    "\n",
    "        self.relu = nn.ReLU()\n",
    "\n",
    "    def forward(self, x):\n",
    "        residual = x\n",
    "        x = self.conv2d_sequential(x)\n",
    "        x += residual\n",
    "        x = self.relu(x)\n",
    "\n",
    "        return x\n",
    "    \n",
    "class ConvolutionLayer(nn.Module):\n",
    "    def __init__(self, infilters, outfilters, kernal_size=3):\n",
    "        super().__init__()\n",
    "        \n",
    "        self.conv2d_sequential = nn.Sequential(                \n",
    "            nn.Conv2d(infilters, outfilters, kernal_size, padding=(kernal_size - 1) // 2),\n",
    "            nn.BatchNorm2d(outfilters),\n",
    "            nn.ReLU(),\n",
    "        )\n",
    "\n",
    "    def forward(self, x):\n",
    "        x = self.conv2d_sequential(x)\n",
    "        return x\n",
    "    \n",
    "class PolicyHead(nn.Module):\n",
    "    def __init__(self, filters):\n",
    "        super().__init__()\n",
    "        self.filters = filters\n",
    "\n",
    "        self.head = nn.Sequential(\n",
    "            nn.Conv2d(self.filters, 1, 1),\n",
    "            nn.Flatten(),\n",
    "            nn.BatchNorm1d(225),\n",
    "            nn.ReLU(),\n",
    "            nn.Linear(225, 225)\n",
    "        )\n",
    "\n",
    "    def forward(self, x):\n",
    "        x = self.head(x)\n",
    "        return x\n",
    "\n",
    "class NeuralNetwork(nn.Module):\n",
    "    def __init__(self, filters, feature_dimensions, residual_layers=5, kernal_size=3):\n",
    "        super().__init__()\n",
    "\n",
    "        self.conv_layer = ConvolutionLayer(feature_dimensions, filters, kernal_size=kernal_size)\n",
    "        self.residual_layers = nn.ModuleList([ResidualLayer(filters, kernal_size=kernal_size) for _ in range(residual_layers)])\n",
    "        self.policy_head = PolicyHead(filters)\n",
    "\n",
    "    def forward(self, x):      \n",
    "        x = self.conv_layer(x)\n",
    "        for layer in self.residual_layers:\n",
    "            x = layer(x)\n",
    "        x = self.policy_head(x)\n",
    "        \n",
    "        return x"
   ]
  },
  {
   "cell_type": "code",
   "execution_count": 13,
   "id": "10136069-433c-4630-a099-b2a7d758e4c2",
   "metadata": {},
   "outputs": [
    {
     "name": "stdout",
     "output_type": "stream",
     "text": [
      "16499173\n"
     ]
    }
   ],
   "source": [
    "# Model Hyperparameters / Config\n",
    "\n",
    "Filters = 128\n",
    "Layers = 20\n",
    "HistoryDepth = 7\n",
    "BatchSize = 128\n",
    "LogCount = 5\n",
    "KernalSize = 5\n",
    "datasetPath = \"../Datasets/HumanExamples/GeneratedDatasets/HD7,TS0.8,RULESETS(1-6, 8-29)\"\n",
    "\n",
    "model = NeuralNetwork(Filters, HistoryDepth * 2 + 1, Layers, kernal_size=KernalSize).to(device)\n",
    "#model = torch.compile(model)\n",
    "\n",
    "wandb_logging = False\n",
    "datasetName = datasetPath.split(\"/\")[-1]\n",
    "loss_fn = nn.CrossEntropyLoss()\n",
    "optimizer = torch.optim.AdamW(model.parameters())\n",
    "\n",
    "paramCount = sum(p.numel() for p in model.parameters())\n",
    "print(paramCount)"
   ]
  },
  {
   "cell_type": "code",
   "execution_count": 14,
   "id": "cfec3f1f",
   "metadata": {},
   "outputs": [
    {
     "data": {
      "text/plain": [
       "torch.Size([2041934, 15, 15, 15])"
      ]
     },
     "execution_count": 14,
     "metadata": {},
     "output_type": "execute_result"
    }
   ],
   "source": [
    "# Load dataset into memory\n",
    "\n",
    "historyDimSize = HistoryDepth * 2 + 1\n",
    "Xtrain = torch.from_numpy(np.fromfile(f'{datasetPath}/XTrain.bin', dtype=bool).astype(np.float32).reshape(-1, historyDimSize, 15, 15))\n",
    "Ytrain = torch.from_numpy(np.fromfile(f'{datasetPath}/YTrain.bin', dtype=bool).astype(np.float32).reshape(-1, 225))\n",
    "Xtest = torch.from_numpy(np.fromfile(f'{datasetPath}/XTest.bin', dtype=bool).astype(np.float32).reshape(-1, historyDimSize, 15, 15))\n",
    "Ytest = torch.from_numpy(np.fromfile(f'{datasetPath}/YTest.bin', dtype=bool).astype(np.float32).reshape(-1, 225))\n",
    "\n",
    "train_dataset = TensorDataset(Xtrain, Ytrain)\n",
    "train_loader = DataLoader(train_dataset, batch_size=BatchSize, shuffle=True)\n",
    "test_dataset = TensorDataset(Xtest, Ytest)\n",
    "test_loader = DataLoader(test_dataset, batch_size=BatchSize, shuffle=False)\n",
    "\n",
    "def renderGamestateSlice(gamestate, depth):\n",
    "    blackStones = gamestate[HistoryDepth * 2 - depth][:][:]\n",
    "    whiteStones = gamestate[HistoryDepth - depth][:][:]\n",
    "    print(\"     1   2   3   4   5   6   7   8   9   10  11  12  13  14  15\")\n",
    "    print(\"   --------------------------------------------------------------\")\n",
    "    for y in range(15):\n",
    "        print(f'{15 - y:2} |', end=\"\")\n",
    "        for x in range(15):\n",
    "            if blackStones[x][y] == 0 and whiteStones[x][y] == 0:\n",
    "                print(\"   \", end=\"\")\n",
    "            elif blackStones[x][y] == 1:\n",
    "                print(\" X \", end=\"\")\n",
    "            elif whiteStones[x][y] == 1:\n",
    "                print(\" O \", end=\"\")\n",
    "            print(\"|\", end=\"\")\n",
    "        print(\"\\n   --------------------------------------------------------------\")\n",
    "\n",
    "Xtrain.shape"
   ]
  },
  {
   "cell_type": "code",
   "execution_count": 15,
   "id": "98d8ff88",
   "metadata": {},
   "outputs": [
    {
     "name": "stdout",
     "output_type": "stream",
     "text": [
      "     1   2   3   4   5   6   7   8   9   10  11  12  13  14  15\n",
      "   --------------------------------------------------------------\n",
      "15 |   |   |   |   |   |   |   |   |   |   |   |   |   |   |   |\n",
      "   --------------------------------------------------------------\n",
      "14 |   |   |   |   |   |   |   |   |   |   |   |   |   |   |   |\n",
      "   --------------------------------------------------------------\n",
      "13 |   |   |   |   |   |   |   |   |   |   |   |   |   |   |   |\n",
      "   --------------------------------------------------------------\n",
      "12 |   |   |   |   |   |   |   |   |   |   |   |   |   |   |   |\n",
      "   --------------------------------------------------------------\n",
      "11 |   |   |   |   |   |   |   | O | X | X |   |   |   |   |   |\n",
      "   --------------------------------------------------------------\n",
      "10 |   |   |   |   |   |   |   | O | O |   | O |   |   |   |   |\n",
      "   --------------------------------------------------------------\n",
      " 9 |   |   |   |   |   |   | X | O | O | X |   |   |   |   |   |\n",
      "   --------------------------------------------------------------\n",
      " 8 |   |   |   |   |   |   | O | X | X | X |   |   |   |   |   |\n",
      "   --------------------------------------------------------------\n",
      " 7 |   |   |   |   | X |   | X | O | O | O |   |   |   |   |   |\n",
      "   --------------------------------------------------------------\n",
      " 6 |   |   |   |   |   |   | X | O | X |   |   |   |   |   |   |\n",
      "   --------------------------------------------------------------\n",
      " 5 |   |   |   |   |   |   |   |   |   |   |   |   |   |   |   |\n",
      "   --------------------------------------------------------------\n",
      " 4 |   |   |   |   |   |   |   |   |   |   |   |   |   |   |   |\n",
      "   --------------------------------------------------------------\n",
      " 3 |   |   |   |   |   |   |   |   |   |   |   |   |   |   |   |\n",
      "   --------------------------------------------------------------\n",
      " 2 |   |   |   |   |   |   |   |   |   |   |   |   |   |   |   |\n",
      "   --------------------------------------------------------------\n",
      " 1 |   |   |   |   |   |   |   |   |   |   |   |   |   |   |   |\n",
      "   --------------------------------------------------------------\n",
      "Move: 6, 9\n"
     ]
    }
   ],
   "source": [
    "# Validate dataset (recommended before training)\n",
    "\n",
    "randomSample = np.random.randint(0, len(Xtrain))\n",
    "renderGamestateSlice(Xtrain[randomSample],0)\n",
    "index = Ytrain[randomSample].argmax(0)\n",
    "print(f\"Move: {index // 15 + 1}, {15 - (index % 15)}\")"
   ]
  },
  {
   "cell_type": "code",
   "execution_count": 17,
   "id": "e17e25b7-d451-4302-9bb6-1ee0700dca94",
   "metadata": {},
   "outputs": [
    {
     "name": "stderr",
     "output_type": "stream",
     "text": [
      "Failed to detect the name of this notebook, you can set it manually with the WANDB_NOTEBOOK_NAME environment variable to enable code saving.\n",
      "\u001b[34m\u001b[1mwandb\u001b[0m: Currently logged in as: \u001b[33malexkurtz\u001b[0m. Use \u001b[1m`wandb login --relogin`\u001b[0m to force relogin\n"
     ]
    },
    {
     "data": {
      "text/html": [
       "Tracking run with wandb version 0.15.11"
      ],
      "text/plain": [
       "<IPython.core.display.HTML object>"
      ]
     },
     "metadata": {},
     "output_type": "display_data"
    },
    {
     "data": {
      "text/html": [
       "Run data is saved locally in <code>/home/linux/Documents/AlphaGomoku/src/wandb/run-20231003_021901-wtkohtgh</code>"
      ],
      "text/plain": [
       "<IPython.core.display.HTML object>"
      ]
     },
     "metadata": {},
     "output_type": "display_data"
    },
    {
     "data": {
      "text/html": [
       "Syncing run <strong><a href='https://wandb.ai/alexkurtz/TorchGomoku/runs/wtkohtgh' target=\"_blank\">noble-resonance-53</a></strong> to <a href='https://wandb.ai/alexkurtz/TorchGomoku' target=\"_blank\">Weights & Biases</a> (<a href='https://wandb.me/run' target=\"_blank\">docs</a>)<br/>"
      ],
      "text/plain": [
       "<IPython.core.display.HTML object>"
      ]
     },
     "metadata": {},
     "output_type": "display_data"
    },
    {
     "data": {
      "text/html": [
       " View project at <a href='https://wandb.ai/alexkurtz/TorchGomoku' target=\"_blank\">https://wandb.ai/alexkurtz/TorchGomoku</a>"
      ],
      "text/plain": [
       "<IPython.core.display.HTML object>"
      ]
     },
     "metadata": {},
     "output_type": "display_data"
    },
    {
     "data": {
      "text/html": [
       " View run at <a href='https://wandb.ai/alexkurtz/TorchGomoku/runs/wtkohtgh' target=\"_blank\">https://wandb.ai/alexkurtz/TorchGomoku/runs/wtkohtgh</a>"
      ],
      "text/plain": [
       "<IPython.core.display.HTML object>"
      ]
     },
     "metadata": {},
     "output_type": "display_data"
    }
   ],
   "source": [
    "# Init wandb tracking\n",
    "wandb.init(project='TorchGomoku', config={\"DatasetName\": datasetName, \"BatchSize\": BatchSize, \"LogCount\": LogCount, \"HistoryDepth\" : HistoryDepth, \"Filters\": Filters, \"Layers\" : Layers, \"KernalSize\" : KernalSize}, tags=[\"AlphaGo\"])\n",
    "wandb_logging = True"
   ]
  },
  {
   "cell_type": "code",
   "execution_count": 8,
   "id": "275f7b23-a687-4a3d-9925-0b9624e36123",
   "metadata": {},
   "outputs": [],
   "source": [
    "wandb.run.notes = \"Trying kernal size 5\""
   ]
  },
  {
   "cell_type": "code",
   "execution_count": 18,
   "id": "0c0ae556-5dd0-4d39-96af-852d0f8bd3ab",
   "metadata": {},
   "outputs": [
    {
     "name": "stdout",
     "output_type": "stream",
     "text": [
      "Epoch 1\n",
      "-------------------------------\n"
     ]
    }
   ],
   "source": [
    "# Start training for specified epochs\n",
    "\n",
    "epochs = 15\n",
    "checkpoints = []\n",
    "for epoch in range(epochs):\n",
    "    print(f\"Epoch {epoch+1}\\n-------------------------------\")\n",
    "    train(train_loader, model, loss_fn, optimizer, epoch, logcount=LogCount, wandb_log=wandb_logging)\n",
    "    test(test_loader, model, loss_fn, epoch, wandb_log=wandb_logging)\n",
    "    checkpoints.append(model.state_dict())\n",
    "print(\"Done!\")"
   ]
  },
  {
   "cell_type": "code",
   "execution_count": null,
   "id": "72c60908-b520-4a74-84d5-78eb7de3a818",
   "metadata": {},
   "outputs": [
    {
     "data": {
      "text/html": [
       "Waiting for W&B process to finish... <strong style=\"color:green\">(success).</strong>"
      ],
      "text/plain": [
       "<IPython.core.display.HTML object>"
      ]
     },
     "metadata": {},
     "output_type": "display_data"
    },
    {
     "data": {
      "text/html": [
       "<style>\n",
       "    table.wandb td:nth-child(1) { padding: 0 10px; text-align: left ; width: auto;} td:nth-child(2) {text-align: left ; width: 100%}\n",
       "    .wandb-row { display: flex; flex-direction: row; flex-wrap: wrap; justify-content: flex-start; width: 100% }\n",
       "    .wandb-col { display: flex; flex-direction: column; flex-basis: 100%; flex: 1; padding: 10px; }\n",
       "    </style>\n",
       "<div class=\"wandb-row\"><div class=\"wandb-col\"><h3>Run history:</h3><br/><table class=\"wandb\"><tr><td>epoch</td><td>▁▁▁▁▁▁▂▂▃▃▃▃▃▃▃▃▄▄▄▅▅▅▅▅▅▅▅▆▆▇▇▇▇▇▇▇▇███</td></tr><tr><td>test_acc</td><td>▁▄▅▆▇▇▇▇▇███▇██</td></tr><tr><td>test_loss</td><td>█▅▃▂▂▁▁▁▁▁▁▁▁▁▁</td></tr><tr><td>train_loss</td><td>█▄▃▃▃▂▂▂▂▂▂▂▂▂▂▂▂▂▂▂▂▂▁▂▁▁▁▁▁▁▁▁▁▁▁▁▁▁▁▁</td></tr></table><br/></div><div class=\"wandb-col\"><h3>Run summary:</h3><br/><table class=\"wandb\"><tr><td>epoch</td><td>14</td></tr><tr><td>test_acc</td><td>0.5211</td></tr><tr><td>test_loss</td><td>1.59536</td></tr><tr><td>train_loss</td><td>1.44285</td></tr></table><br/></div></div>"
      ],
      "text/plain": [
       "<IPython.core.display.HTML object>"
      ]
     },
     "metadata": {},
     "output_type": "display_data"
    },
    {
     "data": {
      "text/html": [
       " View run <strong style=\"color:#cdcd00\">rural-rain-50</strong> at: <a href='https://wandb.ai/alexkurtz/TorchGomoku/runs/3colywtr' target=\"_blank\">https://wandb.ai/alexkurtz/TorchGomoku/runs/3colywtr</a><br/>Synced 6 W&B file(s), 0 media file(s), 0 artifact file(s) and 0 other file(s)"
      ],
      "text/plain": [
       "<IPython.core.display.HTML object>"
      ]
     },
     "metadata": {},
     "output_type": "display_data"
    },
    {
     "data": {
      "text/html": [
       "Find logs at: <code>./wandb/run-20230930_233839-3colywtr/logs</code>"
      ],
      "text/plain": [
       "<IPython.core.display.HTML object>"
      ]
     },
     "metadata": {},
     "output_type": "display_data"
    }
   ],
   "source": [
    "wandb.finish()"
   ]
  },
  {
   "cell_type": "code",
   "execution_count": 8,
   "id": "98ad3223",
   "metadata": {},
   "outputs": [],
   "source": [
    "torch.save(model.state_dict(), \"Model/Models/test1noHistory.pt\")"
   ]
  },
  {
   "cell_type": "code",
   "execution_count": null,
   "id": "9fd8ffb3-addf-4ad4-89d5-0e68ebabc65a",
   "metadata": {},
   "outputs": [],
   "source": [
    "modelNamePath = \"../Models/HumanModels/128f20l5kAllBut715e\"\n",
    "for i, checkpoint in enumerate(checkpoints):\n",
    "    torch.save(checkpoint, f'{modelNamePath}/{i}.pt')"
   ]
  }
 ],
 "metadata": {
  "kernelspec": {
   "display_name": "Python 3 (ipykernel)",
   "language": "python",
   "name": "python3"
  },
  "language_info": {
   "codemirror_mode": {
    "name": "ipython",
    "version": 3
   },
   "file_extension": ".py",
   "mimetype": "text/x-python",
   "name": "python",
   "nbconvert_exporter": "python",
   "pygments_lexer": "ipython3",
   "version": "3.10.13"
  }
 },
 "nbformat": 4,
 "nbformat_minor": 5
}
